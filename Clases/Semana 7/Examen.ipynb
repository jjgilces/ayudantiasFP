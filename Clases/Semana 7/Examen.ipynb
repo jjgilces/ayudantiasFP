{
 "cells": [],
 "metadata": {
  "interpreter": {
   "hash": "8fd0fa209557044ef83cb14c509b9a951234f2ece869ffe9ff565323c71bebdc"
  },
  "kernelspec": {
   "display_name": "Python 3.9.5 64-bit",
   "name": "python3"
  },
  "language_info": {
   "name": "python",
   "version": ""
  },
  "orig_nbformat": 4
 },
 "nbformat": 4,
 "nbformat_minor": 2
}