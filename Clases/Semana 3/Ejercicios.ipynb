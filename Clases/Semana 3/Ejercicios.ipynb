{
 "cells": [
  {
   "cell_type": "markdown",
   "metadata": {},
   "source": [
    "# Ejercicios"
   ]
  },
  {
   "cell_type": "markdown",
   "metadata": {},
   "source": [
    "## Ejercicio 1\n",
    "Escribir un programa que pregunte al usuario su edad y muestre por pantalla todos los años que ha cumplido (desde 1 hasta su edad).\n"
   ]
  },
  {
   "cell_type": "code",
   "execution_count": null,
   "metadata": {},
   "outputs": [],
   "source": [
    "edad=int(input(\"Ingrese su edad\"))\n",
    "string =\"hola\"\n",
    "print(string[0:1])\n",
    "for edad in range(edad):\n",
    "    print(edad+1)\n",
    "\n",
    "for edad in range(1,edad+2):\n",
    "    print(edad)\n"
   ]
  },
  {
   "cell_type": "markdown",
   "metadata": {},
   "source": [
    "\n",
    "## Ejercicio 2\n",
    "Cree un programa que permita ingresar 3 nombre y 3 calificaciones de estudiantes, luego los ingrese en una lista, calcule el promedio, presente el nombre del mayor.\n",
    "\n"
   ]
  },
  {
   "cell_type": "code",
   "execution_count": null,
   "metadata": {},
   "outputs": [],
   "source": [
    "listaNombres=[]\n",
    "listaCalificaciones=[]\n",
    "for i in range(3):\n",
    "    nombre= input(\"ingrese su nombre: \")\n",
    "    listaNombres.append(nombre)\n",
    "    calificacion=float(input(\"ingrese su califacion: \"))\n",
    "    listaCalificaciones.append(calificacion) \n",
    "promedio=sum(listaCalificaciones)/len(listaCalificaciones)\n",
    "print(promedio)\n",
    "valorMayor=max(listaCalificaciones)\n",
    "indiceMax= listaCalificaciones.index(valorMayor)\n",
    "nombreMayor = listaNombres[indiceMax]\n",
    "\n",
    "print(valorMayor)\n",
    "print(indiceMax)\n",
    "print(nombreMayor)\n",
    "\n",
    "print(listaNombres,listaCalificaciones)"
   ]
  },
  {
   "cell_type": "markdown",
   "metadata": {},
   "source": [
    "## Ejercicio 3 \n",
    "\n",
    "Escribir un programa que permita que el usuario escriba materias separadas por \",\"\n",
    "(al menos unas 4) y que devuelva aleatoriamente\n",
    "cualquiera de estas palabras repetida dos veces,\n",
    "pero escrita al revés, ej.\n",
    "```\n",
    ">>> Palabras: Fundamentos, Programacion, Lenguaje, Python\n",
    "La palabra aleatoria invertida es: ejauagneLejauagneL\n",
    "\n",
    "```\n"
   ]
  },
  {
   "cell_type": "code",
   "execution_count": null,
   "metadata": {},
   "outputs": [],
   "source": [
    "import random as rd\n",
    "materias=input(\"Ingrese materias separadas por coma: \") # FP,CVV,INgles,Lenguaje \n",
    "listaMaterias= materias.split(\",\")   #[\"FP\",\"CVV\",...]\n",
    "materiaAleatoria=rd.choice(listaMaterias) #CVV\n",
    "palabraInvertid=materiaAleatoria[::-1] #VVC\n",
    "print(palabraInvertid*2)\n"
   ]
  },
  {
   "cell_type": "markdown",
   "metadata": {},
   "source": [
    "## Ejercicio 4\n",
    "\n",
    "```\n",
    "Escribir un programa que almacene en una lista los\n",
    "siguientes precios, 50, 75, 46, 22, 80, 65, 8, y\n",
    "muestre por pantalla el menor y el mayor de los\n",
    "precios ademas eliminelos de la lista original. \n",
    "\n",
    "```\n"
   ]
  },
  {
   "cell_type": "code",
   "execution_count": null,
   "metadata": {},
   "outputs": [],
   "source": [
    "precios=[50, 75, 110, 22, 80, 65, 8]\n",
    "valorMiN=min(precios)\n",
    "valorMax= max(precios)\n",
    "print(precios)\n",
    "print(\"El valor minimo es {}\\nEl valor Maximo es {}\".format(valorMiN,valorMax))\n",
    "precios.remove(valorMiN)\n",
    "precios.remove(valorMax)\n",
    "print(precios)\n",
    "import random as rd\n",
    "opcion=[\"Hacer el 5\",\"Hacer el siguiente\"]\n",
    "print(rd.choice(opcion))"
   ]
  },
  {
   "cell_type": "markdown",
   "metadata": {},
   "source": [
    "# Ejercicio 5\n",
    "Elabore un programa que reciba los nombres y las edades de 3 estudiantes por teclado (Se recomienda usar una lista para las edades y otra para los nombres). En su programa las listas empiezan vacías y se van llenando con lo que el usuario ingresa por teclado. Muestre por pantalla lo siguiente:\n",
    "```\n",
    "  •\tCuál es el estudiante con mayor edad.\n",
    "  •\tCuál es el estudiante con menor edad.\n",
    "  •\tCuál es el promedio de edad de todos los estudiantes.\n",
    "```\n"
   ]
  },
  {
   "cell_type": "code",
   "execution_count": null,
   "metadata": {},
   "outputs": [],
   "source": [
    "nombreEstudiantes=[]\n",
    "edadEstudiantes=[]\n",
    "for i in range(3):\n",
    "    nombre=input(\"Ingrese un nombre:\")\n",
    "    nombreEstudiantes.append(nombre)\n",
    "    edad=int(input(\"ingrese una edad:\"))\n",
    "    edadEstudiantes.append(edad)\n",
    "#[Paul, Omar, Andrea]\n",
    "#[19,18,20]\n",
    "\n",
    "indeceMax= edadEstudiantes.index(max(edadEstudiantes))\n",
    "nombreMayor = nombreEstudiantes[indiceMax]\n",
    "indiceMin = edadEstudiantes.index(min(edadEstudiantes))\n",
    "nombreMenor = nombreEstudiantes[indiceMin]\n",
    "\n",
    "promedio=sum(edadEstudiantes)/len(edadEstudiantes)\n",
    "print(nombreMayor)\n",
    "print(nombreMenor)\n",
    "print(promedio)\n",
    "# edadMayor  -->andrea\n",
    "# edadMenor  -->omar\n",
    "# promedio  -->19\n"
   ]
  },
  {
   "cell_type": "markdown",
   "metadata": {},
   "source": [
    "que recibe una lista de países y retorna una lista con los nombres de los países sin repetir. "
   ]
  },
  {
   "cell_type": "code",
   "execution_count": null,
   "metadata": {},
   "outputs": [],
   "source": [
    "listaPaises=[\"Ecuador\",\"Ecuador\",\"Venezuela\",\"Ecuador\",\"Colombia\",\"Colombia\",\"Colombia\",\"Brasil\"]\n",
    "listaPaises.remove(\"Ecuador\")\n",
    "print(listaPaises)\n",
    "listaPaisesSinRepetir=[]\n",
    "for pais in listaPaises:\n",
    "    if pais in listaPaisesSinRepetir:\n",
    "        listaPaisesSinRepetir.remove(pais)\n",
    "    listaPaisesSinRepetir.append(pais)\n",
    "\n",
    "for pais in listaPaises:\n",
    "    if pais not in listaPaisesSinRepetir:\n",
    "        listaPaisesSinRepetir.append(pais)\n",
    "    \n",
    "print(listaPaisesSinRepetir)\n",
    "\n"
   ]
  },
  {
   "cell_type": "markdown",
   "metadata": {},
   "source": [
    "# Ejercicio 1\n",
    "\n",
    "Validar si un código postal es correcto, valide el siguiente formato código de país (2 letras mayúsculas) y 5 dígitos. Ejemplo: EC02929, CO19283, CL78392. Imprima un mensaje con código postal correcto, o incorrecto"
   ]
  },
  {
   "cell_type": "code",
   "execution_count": null,
   "metadata": {},
   "outputs": [],
   "source": [
    "codigo_postal= input(\"Ingrese el codigo\")  #EC02929\n",
    "cod_pais= codigo_postal[0:2] #EC cd ch eu \n",
    "cumple_codigo= cod_pais.isupper() and cod_pais.isalpha() #EC--> True \n",
    "digitos_postal= codigo_postal[2:] #\n",
    "cum_digitos= len(digitos_postal)==5 and digitos_postal.isdigit() # tre/false\n",
    "condicionTotal= cumple_codigo and cum_digitos #True or False\n",
    "if condicionTotal: \n",
    "    print(\"Codigo postal correcto\")\n",
    "else: \n",
    "    print(\"Codigo postal incorrecto\")\n"
   ]
  },
  {
   "cell_type": "markdown",
   "metadata": {},
   "source": [
    "# Ejercicio 2\n",
    "\n",
    "Validar un correo ESPOL, el usuario debe iniciar con letra, luego puede tener letras o números; un arroba, y terminar con espol.edu.ec. Imprima \"Correo ESPOL válido\" si es un correo ESPOL, caso contrario \"Correo no identificado\""
   ]
  },
  {
   "cell_type": "code",
   "execution_count": null,
   "metadata": {},
   "outputs": [],
   "source": [
    "correo = \"jjgilces12@espol.edu.ec\"\n",
    "primera_letra= correo[0] #j \n",
    "cumple_primera_letra= primera_letra.isalpha()\n",
    "cumple_num= correo.isalnum()\n",
    "cumple_arroba= correo.count(\"@\")==1 # 1 or 2 or 3\n",
    "cumple_termina= correo.endswith(\"espol.edu.ec\")\n",
    "condicionTotal= cumple_primera_letra and cumple_num and cumple_termina and cumple_arroba\n",
    "if condicionTotal: \n",
    "    print(\"Es un correo de espol valido\")\n",
    "else: \n",
    "    print(\"no es un correo valido\" )\n",
    "\n",
    "\n",
    "\n",
    "\n"
   ]
  },
  {
   "cell_type": "markdown",
   "metadata": {},
   "source": [
    "# Ejercicio 3\n",
    "Valida si una Tarjeta de crédito es Mastercard o VISA, las condiciones para VISA son 16 o 13 dígitos, empiece con el dígito 4. Mastercard: 16 dígitos, empiece con cadena de dígitos del 2221, 23, 24, 25, 26, o 2720. Imprima un mensaje si ha reconocido \"VISA\", \"Mastercard\" o \"Tarjeta no Reconocida.\""
   ]
  },
  {
   "cell_type": "code",
   "execution_count": null,
   "metadata": {},
   "outputs": [],
   "source": [
    "tarjeta= input(\"Ingrese una tarjeta de crédito: \")\n",
    "isVisa= len(tarjeta)==16 or len(tarjeta)==13 and tarjeta.startswith(\"4\") \n",
    "isMastercar= len(tarjeta)==16 and tarjeta.startswith(\"2221\") or  tarjeta.startswith(\"23\") or   tarjeta.startswith(\"24\") or  tarjeta.startswith(\"2720\") \n",
    "if isVisa: \n",
    "    print(\"Su tarjeta es visa\")\n",
    "elif isMastercar: \n",
    "    print(\"Su tarjeta es mastercard\")\n",
    "else: \n",
    "    print(\"Su tarjeta no es reconocida\")"
   ]
  },
  {
   "cell_type": "markdown",
   "metadata": {},
   "source": [
    "# Ejercicio 4\n",
    "Una universidad ofrece becas para aquellos estudiantes que se encuentren despues del nivel 200 y que el promedio de sus ultimas 3 materias sea mayor a 90. Implementar un programa que indique si el estudiante recibe la beca o no.\n",
    "\n",
    "```\n",
    "Ejemplos\n",
    "\n",
    "Ingrese nombre: Pedro\n",
    "Ingrese nivel: 300\n",
    "Ingrese calificaciones: 90,100,100\n",
    "El estudiante Pedro obtiene la beca: True\n",
    "\n",
    "Ingrese nombre: Carlos\n",
    "Ingrese nivel: 200\n",
    "Ingrese calificaciones: 90.5,100,95\n",
    "El estudiante Carlos obtiene la beca: False\n",
    "```"
   ]
  },
  {
   "cell_type": "code",
   "execution_count": null,
   "metadata": {},
   "outputs": [],
   "source": [
    "nombre=input(\"Ingresa su nombre: \")\n",
    "nivel=input(\"Ingrese su nivel:\")\n",
    "nivel=int(nivel)\n",
    "# cal_l=int(input(\"Ingrese su calificación 1:\"))\n",
    "# cal_ll=int(input(\"Ingrese su calificación 2:\"))\n",
    "# cal_lll=int(input(\"Ingrese su calificación 3:\"))\n",
    "calificaciones= input(\"Ingrese las calificaciones separadas por coma: \") #\"100,90,70\"   \"90,90,90\"  \"100,100,100\" \",,,,,,\"\n",
    "pos_1coma= calificaciones.index(\",\")  #3 index--> siempre retorna la primera coincidencia\n",
    "primera_c= calificaciones[0: pos_1coma]\n",
    "pos_2coma= calificaciones.index(\",\",pos_1coma+1)  # juan pepe pedro maria \n",
    "segunda_c= calificaciones[pos_1coma+1: pos_2coma]\n",
    "tercera_c= calificaciones[pos_2coma+1:]\n",
    "pc= float(primera_c)\n",
    "sc= float(segunda_c)\n",
    "tc= float(tercera_c)\n",
    "promedio= (pc+sc+tc)/3\n",
    "if promerdio>90 and nivel>200:\n",
    "    print(\"Recibe una beca\")\n",
    "else: \n",
    "    print('Lo sentimos, no obtuvo beca')\n",
    "\n",
    "\n"
   ]
  },
  {
   "cell_type": "markdown",
   "metadata": {},
   "source": [
    "# Ejercicio 5\n",
    "De los siguientes textos \n",
    "```\n",
    "texto1= \"MICHAEL,estudiante011,Guayaquil,Calculo|75|70|80,Programacion|70|75|80-2019\"\n",
    "texto2= \"MICHELLE,estudiante012,Guayaquil,Programacion|70|74|,Quimica|60|60|-2021\"\n",
    "```\n",
    "Extraer la siguiente información: \n",
    " - nombre del estudiante\n",
    " - la ciudad \n",
    " - las calificaciones de Programacion \n",
    " - la matricula del estudiante. \n",
    " \n",
    "En caso de que la nota de programación sea superior a 60, deberá imprimir \"Felicidades! ha aprobado la materia\", caso contrario imprima \"RP\"\n",
    "Si la matricula del estudiante es mayor a 2020, quiere decir que el estudiante no conoce el campus y por lo tanto debe asistir a la inducción de novatos, muestre un mensaje para saber si el estudiante debe asistir o no. \n"
   ]
  },
  {
   "cell_type": "code",
   "execution_count": 15,
   "metadata": {},
   "outputs": [
    {
     "name": "stdout",
     "output_type": "stream",
     "text": [
      "8\n"
     ]
    }
   ],
   "source": [
    "# saber leer el texto --> archivos\n",
    "texto= \"MICHAEL,estudiante011,Guayaquil,Calculo|75|70|80,Programacion|70|75|80-2019\" \n",
    "#\"MICHELLE,estudiante012,Guayaquil,Programacion|70|74|,Quimica|60|60|-2021\"\n",
    "pos_coma1= texto.index(\",\")\n",
    "nombre= texto[ : pos_coma1]\n",
    "pos_coma2= texto.index(\",\", pos_coma1+1)\n",
    "pos_coma3= texto.index(\",\",pos_coma2+1)\n",
    "ciudad= texto[pos_coma2: pos_coma3]\n",
    "pos_programacion = texto.index(\"Programacion\") +len(\"Programacion\")+1\n",
    "pos_final_prog= texto.index(\"|\",pos_programacion+1)\n",
    "cali_programacion= texto[pos_programacion:pos_final_prog]\n",
    "pos_ma = texto.index(\"-\")\n",
    "matricula=texto[pos_ma+1:]\n",
    "print(pos_programacion)\n",
    "\n",
    "\n",
    "\n",
    "nombre=input('Ingrese su nombre: ')\n",
    "\n",
    "nivel= int(input('Ingrese su nivel: '))\n",
    "\n",
    "calificaciones=(input('Ingrese sus calificaciones: '))#\"100,100,90\"\n",
    "\n",
    "calificaciones=calificaciones.split(',')  #[\"100\", \"100\", \"90\"] .toFloat---> [100,100,90]\n",
    "\n",
    "for calificacion in calificaciones:\n",
    "    c= float(calificacion)\n",
    "\n",
    "\n",
    "calif1=float(calificaciones[0])\n",
    "\n",
    "calif2=float(calificaciones[1])\n",
    "\n",
    "calif3=float(calificaciones[2])\n",
    "\n",
    "promedio=(calif1+calif2+calif3)/3\n",
    "\n",
    "print(promedio)\n",
    "\n",
    "if nivel>200 and promedio>=90 :\n",
    "\n",
    "        print(f'El estudiante {nombre} obtiene la beca: True')\n",
    "\n",
    "else:\n",
    "\n",
    "    print(f'El estudiante {nombre} obtiene la beca: False ')\n",
    "\n",
    "\n"
   ]
  }
 ],
 "metadata": {
  "interpreter": {
   "hash": "5041e0b8c1aa3c2b121861d4d771e7c37168cb16f529d07accb5a2ba5d560b63"
  },
  "kernelspec": {
   "display_name": "Python 3.9.2 64-bit",
   "name": "python3"
  },
  "language_info": {
   "codemirror_mode": {
    "name": "ipython",
    "version": 3
   },
   "file_extension": ".py",
   "mimetype": "text/x-python",
   "name": "python",
   "nbconvert_exporter": "python",
   "pygments_lexer": "ipython3",
   "version": "3.9.2"
  },
  "metadata": {
   "interpreter": {
    "hash": "8fd0fa209557044ef83cb14c509b9a951234f2ece869ffe9ff565323c71bebdc"
   }
  },
  "orig_nbformat": 2
 },
 "nbformat": 4,
 "nbformat_minor": 2
}
