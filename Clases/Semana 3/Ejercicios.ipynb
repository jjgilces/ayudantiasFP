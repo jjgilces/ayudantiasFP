{
 "metadata": {
  "language_info": {
   "codemirror_mode": {
    "name": "ipython",
    "version": 3
   },
   "file_extension": ".py",
   "mimetype": "text/x-python",
   "name": "python",
   "nbconvert_exporter": "python",
   "pygments_lexer": "ipython3",
   "version": "3.9.5"
  },
  "orig_nbformat": 2,
  "kernelspec": {
   "name": "python395jvsc74a57bd08fd0fa209557044ef83cb14c509b9a951234f2ece869ffe9ff565323c71bebdc",
   "display_name": "Python 3.9.5 64-bit"
  },
  "metadata": {
   "interpreter": {
    "hash": "8fd0fa209557044ef83cb14c509b9a951234f2ece869ffe9ff565323c71bebdc"
   }
  }
 },
 "nbformat": 4,
 "nbformat_minor": 2,
 "cells": [
  {
   "source": [
    "# Ejercicios"
   ],
   "cell_type": "markdown",
   "metadata": {}
  },
  {
   "source": [
    "## Ejercicio 1\n",
    "Escribir un programa que pregunte al usuario su edad y muestre por pantalla todos los años que ha cumplido (desde 1 hasta su edad).\n"
   ],
   "cell_type": "markdown",
   "metadata": {}
  },
  {
   "cell_type": "code",
   "execution_count": null,
   "metadata": {},
   "outputs": [],
   "source": [
    "edad=int(input(\"Ingrese su edad\"))\n",
    "for edad in range(edad):\n",
    "    print(edad+1)\n",
    "\n",
    "for edad in range(1,edad+2):\n",
    "    print(edad)\n"
   ]
  },
  {
   "source": [
    "\n",
    "## Ejercicio 2\n",
    "Cree un programa que permita ingresar 3 nombre y 3 calificaciones de estudiantes, luego los ingrese en una lista, calcule el promedio, presente el nombre del mayor.\n",
    "\n"
   ],
   "cell_type": "markdown",
   "metadata": {}
  },
  {
   "cell_type": "code",
   "execution_count": 26,
   "metadata": {},
   "outputs": [
    {
     "output_type": "stream",
     "name": "stdout",
     "text": [
      "16.333333333333332\n20.0\n0\nJuan \n['Juan ', 'Jose', 'Johan'] [20.0, 15.0, 14.0]\n"
     ]
    }
   ],
   "source": [
    "listaNombres=[]\n",
    "listaCalificaciones=[]\n",
    "for i in range(3):\n",
    "    nombre= input(\"ingrese su nombre: \")\n",
    "    listaNombres.append(nombre)\n",
    "    calificacion=float(input(\"ingrese su califacion: \"))\n",
    "    listaCalificaciones.append(calificacion) \n",
    "promedio=sum(listaCalificaciones)/len(listaCalificaciones)\n",
    "print(promedio)\n",
    "valorMayor=max(listaCalificaciones)\n",
    "indiceMax= listaCalificaciones.index(valorMayor)\n",
    "nombreMayor = listaNombres[indiceMax]\n",
    "\n",
    "print(valorMayor)\n",
    "print(indiceMax)\n",
    "print(nombreMayor)\n",
    "\n",
    "print(listaNombres,listaCalificaciones)"
   ]
  },
  {
   "source": [
    "## Ejercicio 3 \n",
    "\n",
    "Escribir un programa que permita que el usuario escriba materias separadas por \",\"\n",
    "(al menos unas 4) y que devuelva aleatoriamente\n",
    "cualquiera de estas palabras repetida dos veces,\n",
    "pero escrita al revés, ej.\n",
    "```\n",
    ">>> Palabras: Fundamentos, Programacion, Lenguaje, Python\n",
    "La palabra aleatoria invertida es: ejauagneLejauagneL\n",
    "\n",
    "```\n"
   ],
   "cell_type": "markdown",
   "metadata": {}
  },
  {
   "cell_type": "code",
   "execution_count": 30,
   "metadata": {},
   "outputs": [
    {
     "output_type": "stream",
     "name": "stdout",
     "text": [
      "ejaugneL ejaugneL \n"
     ]
    }
   ],
   "source": [
    "import random as rd\n",
    "materias=input(\"Ingrese materias separadas por coma: \") # FP,CVV,INgles,Lenguaje \n",
    "listaMaterias= materias.split(\",\")   #[\"FP\",\"CVV\",...]\n",
    "materiaAleatoria=rd.choice(listaMaterias) #CVV\n",
    "palabraInvertid=materiaAleatoria[::-1] #VVC\n",
    "print(palabraInvertid*2)\n"
   ]
  },
  {
   "source": [
    "## Ejercicio 4\n",
    "\n",
    "```\n",
    "Escribir un programa que almacene en una lista los\n",
    "siguientes precios, 50, 75, 46, 22, 80, 65, 8, y\n",
    "muestre por pantalla el menor y el mayor de los\n",
    "precios ademas eliminelos de la lista original. \n",
    "\n",
    "```\n"
   ],
   "cell_type": "markdown",
   "metadata": {}
  },
  {
   "cell_type": "code",
   "execution_count": 35,
   "metadata": {},
   "outputs": [
    {
     "output_type": "stream",
     "name": "stdout",
     "text": [
      "[50, 75, 110, 22, 80, 65, 8]\nEl valor minimo es 8\nEl valor Maximo es 110\n[50, 75, 22, 80, 65]\nHacer el 5\n"
     ]
    }
   ],
   "source": [
    "precios=[50, 75, 110, 22, 80, 65, 8]\n",
    "valorMiN=min(precios)\n",
    "valorMax= max(precios)\n",
    "print(precios)\n",
    "print(\"El valor minimo es {}\\nEl valor Maximo es {}\".format(valorMiN,valorMax))\n",
    "precios.remove(valorMiN)\n",
    "precios.remove(valorMax)\n",
    "print(precios)\n",
    "import random as rd\n",
    "opcion=[\"Hacer el 5\",\"Hacer el siguiente\"]\n",
    "print(rd.choice(opcion))"
   ]
  },
  {
   "source": [
    "# Ejercicio 5\n",
    "Elabore un programa que reciba los nombres y las edades de 3 estudiantes por teclado (Se recomienda usar una lista para las edades y otra para los nombres). En su programa las listas empiezan vacías y se van llenando con lo que el usuario ingresa por teclado. Muestre por pantalla lo siguiente:\n",
    "```\n",
    "  •\tCuál es el estudiante con mayor edad.\n",
    "  •\tCuál es el estudiante con menor edad.\n",
    "  •\tCuál es el promedio de edad de todos los estudiantes.\n",
    "```\n"
   ],
   "cell_type": "markdown",
   "metadata": {}
  },
  {
   "cell_type": "code",
   "execution_count": 40,
   "metadata": {},
   "outputs": [
    {
     "output_type": "stream",
     "name": "stdout",
     "text": [
      "Andrea\nOmar\n19.0\n"
     ]
    }
   ],
   "source": [
    "nombreEstudiantes=[]\n",
    "edadEstudiantes=[]\n",
    "for i in range(3):\n",
    "    nombre=input(\"Ingrese un nombre:\")\n",
    "    nombreEstudiantes.append(nombre)\n",
    "    edad=int(input(\"ingrese una edad:\"))\n",
    "    edadEstudiantes.append(edad)\n",
    "#[Paul, Omar, Andrea]\n",
    "#[19,18,20]\n",
    "\n",
    "indeceMax= edadEstudiantes.index(max(edadEstudiantes))\n",
    "nombreMayor = nombreEstudiantes[indiceMax]\n",
    "indiceMin = edadEstudiantes.index(min(edadEstudiantes))\n",
    "nombreMenor = nombreEstudiantes[indiceMin]\n",
    "\n",
    "promedio=sum(edadEstudiantes)/len(edadEstudiantes)\n",
    "print(nombreMayor)\n",
    "print(nombreMenor)\n",
    "print(promedio)\n",
    "# edadMayor  -->andrea\n",
    "# edadMenor  -->omar\n",
    "# promedio  -->19\n"
   ]
  },
  {
   "source": [
    "que recibe una lista de países y retorna una lista con los nombres de los países sin repetir. "
   ],
   "cell_type": "markdown",
   "metadata": {}
  },
  {
   "cell_type": "code",
   "execution_count": 42,
   "metadata": {},
   "outputs": [
    {
     "output_type": "stream",
     "name": "stdout",
     "text": [
      "Ecuador\nEcuador\nVenezuela\nEcuador\nColombia\nColombia\nColombia\nBrasil\n['Ecuador', 'Venezuela', 'Colombia', 'Brasil']\n"
     ]
    }
   ],
   "source": [
    "listaPaises=[\"Ecuador\",\"Ecuador\",\"Venezuela\",\"Ecuador\",\"Colombia\",\"Colombia\",\"Colombia\",\"Brasil\"]\n",
    "listaPaisesSinRepetir=[]\n",
    "for pais in listaPaises:\n",
    "    if pais not in listaPaisesSinRepetir:\n",
    "        listaPaisesSinRepetir.append(pais)\n",
    "    \n",
    "print(listaPaisesSinRepetir)\n",
    "\n"
   ]
  },
  {
   "cell_type": "code",
   "execution_count": null,
   "metadata": {},
   "outputs": [],
   "source": []
  }
 ]
}