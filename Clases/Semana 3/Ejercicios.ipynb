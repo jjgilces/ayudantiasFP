{
 "cells": [
  {
   "cell_type": "markdown",
   "metadata": {},
   "source": [
    "# Ejercicios"
   ]
  },
  {
   "cell_type": "markdown",
   "metadata": {},
   "source": [
    "## Ejercicio 1\n",
    "\n",
    "Elabore un programa que reciba los nombres y las edades de 3 estudiantes por \n",
    "teclado (Se recomienda usar una lista para las edades y otra para los nombres). En su \n",
    "programa las listas empiezan vacías y se van llenando con lo que el usuario ingresa por \n",
    "teclado. Muestre por pantalla lo siguiente:\n",
    "\n",
    "```\n",
    "  •\tCuál es el estudiante con mayor edad.\n",
    "  •\tCuál es el estudiante con menor edad.\n",
    "  •\tCuál es el promedio de edad de todos los estudiantes.\n",
    "```\n"
   ]
  },
  {
   "cell_type": "code",
   "execution_count": null,
   "metadata": {},
   "outputs": [],
   "source": [
    "nombres= input(\"Ingrese los nombres separados por coma:\") #\"Johan,Miguel,Juan\" \n",
    "edades= input(\"Ingrese las edades separados por coma:\")  #\"20,19,18\"\n",
    "\n",
    "lista_nombres= nombres.split(\",\") #split siempre retorna una lista de STRING  --> [\"Johan\",\"Miguel\",\"Juan\"]\n",
    "lista_edades= edades.split(\",\")  # noexiste una funcion que una lista de string, me las de como entero \n",
    "\n",
    "lista_edadesE=[]\n",
    "for i in lista_edades:\n",
    "    num= int(i)\n",
    "    #lista.append(lo que voy a agregar)\n",
    "    lista_edadesE.append(num)\n",
    "#1) Obtengo la edad mayor en la lista de edades\n",
    "edad_mayor= max(lista_edadesE) #  max(lista)\n",
    "#2) buscar el indice del maximo\n",
    "indice_mayor= lista_edadesE.index(edad_mayor)  #1\n",
    "#3) indexar en la lista de nombres\n",
    "nombre_mayor = lista_nombres[indice_mayor] \n",
    "\n",
    "print(\"El estudiante con mayor edad es\", nombre_mayor)\n",
    "#1) Obtengo la edad menor en la lista de edades\n",
    "edad_menor= min(lista_edadesE)\n",
    "#2) buscar el indice del maximo\n",
    "indice_menor= lista_edadesE.index(edad_mayor)\n",
    "#3) indexar en la lista de nombres\n",
    "nombre_menor = lista_nombres[indice_mayor]\n",
    "print(\"El estudiante con menor edad es\", nombre_menor)\n",
    "\n",
    "#promedio--> sumo todo y lo divido para la cantidad de valores\n",
    "promedio= sum(lista_edadesE) /len(lista_edadesE)\n",
    "print(\"El promedio de edades es: \", promedio)\n",
    "\n"
   ]
  },
  {
   "cell_type": "markdown",
   "metadata": {},
   "source": [
    "\n",
    "## Ejercicio 2\n",
    "Se tiene la siguiente 2 listas que corresponden a calificaciones y nombres de \n",
    "estudiantes de la materia Fundamentos de programación. Se pide mostrar por \n",
    "pantalla si el estudiante aprobó o no (Aprueba si su calificación es mayor a 6). \n",
    "\n",
    "\n",
    "```\n",
    "calificaciones=[7,5,3,10,9]\n",
    "nombres=[\"Daniela Sanchez\",\"Jean Flores\", \"Axcel Espinoza\" , \"Gabriela de la \n",
    "Torre\", \"Johan Gilces\"]\n",
    "```"
   ]
  },
  {
   "cell_type": "code",
   "execution_count": null,
   "metadata": {},
   "outputs": [],
   "source": [
    "calificaciones=[7,5,3,10,9]\n",
    "nombres=[\"Daniela Sanchez\",\"Jean Flores\", \"Axcel Espinoza\" , \"Gabriela de la Torre\", \"Johan Gilces\"]\n",
    "#for por indice \n",
    "for i in range(len(nombres)):   #   1   2   3   4\n",
    "    cal= calificaciones[i]\n",
    "    nombre= nombres[i]\n",
    "    if cal>= 6: \n",
    "        print('El estudiante {} aprobó  '.format(nombre))\n",
    "    else: \n",
    "        print(\"El estudiante {} no aprobó \".format(nombre))\n",
    "\n"
   ]
  },
  {
   "cell_type": "markdown",
   "metadata": {},
   "source": [
    "## Ejercicio 3 \n",
    "Un bazar almacena las ventas que realiza en una lista:\n",
    "\n",
    "```\n",
    "ventas = [\"10-cuadernos-1.20$\",\"5-borradores-0.50$\",\"2-carpetas-0.25$\",\"2-cuadernos-1.30$\",\"2-\n",
    "borradores-0.60$\"]\n",
    "\n",
    "```\n",
    "Cada elemento de la lista representa un item vendido. El formato de cada elemento de \n",
    "la lista es el siguiente: cantidad-item-precioUnitario. Se requiere que usted implemente \n",
    "un programa que permita conocer el item que ha generado el mayor valor total de \n",
    "todas las ventas.\n",
    "Ejemplo de salida del programa:\n",
    "El item que mayor valor total ha generado es cuadernos con un valor total de 10.6$\n",
    "Nota. - Para calcular el valor total de cada venta debe multiplicar la cantidad del item \n",
    "que se ha vendido por el precio unitario\n",
    "\n"
   ]
  },
  {
   "cell_type": "code",
   "execution_count": 21,
   "metadata": {},
   "outputs": [
    {
     "name": "stdout",
     "output_type": "stream",
     "text": [
      "[14.6, 3.7, 0.5]\n",
      "['cuadernos', 'borradores', 'carpetas']\n"
     ]
    }
   ],
   "source": [
    "ventas = [\"10-cuadernos-1.20$\",\"5-borradores-0.50$\",\"2-carpetas-0.25$\",\"2-cuadernos-1.30$\",\n",
    "\"2-borradores-0.60$\"]\n",
    "precios=[]\n",
    "items=[]\n",
    "for venta in ventas: \n",
    "    lista_venta= venta.split(\"-\") #[10,cuadernos,1.20$]\n",
    "    #cantidad, item,precioU= venta.split(\"-\")\n",
    "    cantidad= int(lista_venta[0])  #\"10\"\n",
    "    item= lista_venta[1]   #\"cuaderno\"\n",
    "    precioU= lista_venta[2] #\"1.20$\"\n",
    "    #precioU= precioU.replace(\"$\",\"\")\n",
    "    #precioU= precioU.strip(\"$\")\n",
    "    precioU= float(precioU[:-1])\n",
    "    subTotal= cantidad* precioU \n",
    "    if item not in items: \n",
    "        items.append(item)\n",
    "        precios.append(subTotal)\n",
    "    else: \n",
    "        indice= items.index(item)  #lista.index(cuaderno)\n",
    "        precios[indice]+=subTotal\n",
    "\n",
    "mayor = max(precios)\n",
    "indice_mayor= precios.index(mayor)\n",
    "item_mamyor= items[indice_mayor]\n",
    "print(precios)\n",
    "print(items)\n"
   ]
  },
  {
   "cell_type": "markdown",
   "metadata": {},
   "source": [
    "## Ejercicio 4\n",
    "Usted debe colocar en su programa las siguientes listas:\n",
    "\n",
    "```\n",
    "\n",
    "• Seleccionar algunas frutas, tal que la suma del total de fibras de las frutas \n",
    "seleccionadas sea menor que 10 y el valor de grasas de las frutas seleccionadas sea \n",
    "menor que 15. \n",
    "• El criterio de selección es empezando a seleccionar las frutas que tengan mayor\n",
    "valor nutricional.\n",
    "• Presentar los nombres de las frutas seleccionadas con sus valores de grasas y fibras.\n",
    "\n",
    "```\n",
    "El valor nutritivo de una fruta se calcula de la siguiente forma energía * proteínas.\n"
   ]
  },
  {
   "cell_type": "code",
   "execution_count": null,
   "metadata": {},
   "outputs": [],
   "source": [
    "frutas = [\"aguacate\",\"cerezas\",\"ciruelas\",\"fresas\",\"kiwi\",\"limon\",\"mandarina\",\"manzana\",\"melon\"]\n",
    "energias = [134,58,45,34,53,39,39,41,37]\n",
    "agua = [79,82,84,88,83,87,86,85,88]\n",
    "hidratos = [1.3,13.5,11.0,7.0,12.1,9.0,9.0,10.5,8.4]\n",
    "fibras = [2.4,1.5,2.1,2.2,1.5,1.0,1.9,2.3,0.8]\n",
    "grasas = [13.8,0.5,0.15,0.5,0.44,0.3,0.19,0.2,0.28]\n",
    "proteinas = [1.3,0.8,0.6,0.7,1.0,0.7,0.8,0.3,0.9]\n"
   ]
  },
  {
   "cell_type": "markdown",
   "metadata": {},
   "source": [
    "# Ejercicio 5\n",
    "Escriba un programa que permita ingresar valores y los vaya sumando hasta que el \n",
    "usuario ingrese un numero negativo. \n",
    "```\n",
    "El numero negativo no se considera en la suma.\n",
    "```\n"
   ]
  },
  {
   "cell_type": "code",
   "execution_count": null,
   "metadata": {},
   "outputs": [],
   "source": []
  },
  {
   "cell_type": "markdown",
   "metadata": {},
   "source": [
    "que recibe una lista de países y retorna una lista con los nombres de los países sin repetir. "
   ]
  },
  {
   "cell_type": "code",
   "execution_count": null,
   "metadata": {},
   "outputs": [],
   "source": [
    "listaPaises=[\"Ecuador\",\"Ecuador\",\"Venezuela\",\"Ecuador\",\"Colombia\",\"Colombia\",\"Colombia\",\"Brasil\"]\n",
    "\n",
    "\n",
    "for pais in listaPaises:\n",
    "    if pais not in listaPaisesSinRepetir:\n",
    "        listaPaisesSinRepetir.append(pais)\n",
    "    \n",
    "print(listaPaisesSinRepetir)\n",
    "listaPaisesSinRepetir=[]\n",
    "for pais in listaPaises:\n",
    "    if pais in listaPaisesSinRepetir:\n",
    "        listaPaisesSinRepetir.remove(pais)\n",
    "    listaPaisesSinRepetir.append(pais)\n",
    "\n"
   ]
  },
  {
   "cell_type": "markdown",
   "metadata": {},
   "source": [
    "# Ejercicio 6\n",
    "\n",
    "Una tienda de animes necesita gestionar la compra – venta de sus series en Blu-ray, por \n",
    "ello lo contratará a usted. La tienda cuenta con las siguientes listas:\n"
   ]
  },
  {
   "cell_type": "code",
   "execution_count": 61,
   "metadata": {},
   "outputs": [],
   "source": [
    "animes = [ \"Jujutsu Kaisen\", \"Tokyo Revengers\", \"Haikyuu\", \"Kimetsu No Yaiba\", \"Boku No Hero\", \"Naruto\"]\n",
    "precios = [15.5 , 20.80, 10.78, 17.90, 23.56, 24.62] \n",
    "generos=[[\"Accion\",\"Demonios\",\"Escolares\", \"Shounen\",\"Sobrenatural\"],\n",
    "[\"Accion\",\"Drama\",\"Escolares\",\"Shounen\"], \n",
    "[\"Comedia\",\"Deportes\",\"Drama\",\"Escolares\",\"Shounen\"], \n",
    "[\"Accion\",\"Demonios\",\"Historico\",\"Shounen\",\"Sobrenatural\"], \n",
    "[\"Accion\",\"Comedia\",\"Escolares\",\"Shounen\",\"Superpoderes\"],\n",
    "[\"Accion\",\"Shounen\",\"Sobrenatural\"] ]"
   ]
  },
  {
   "cell_type": "markdown",
   "metadata": {},
   "source": [
    "## Comprar anime\n",
    "Pide al usuario un anime, usted deberá presentar el precio del anime que el usuario \n",
    "ingresó, además el usuario deberá ingresar el dinero en efectivo que posee. Usted \n",
    "deberá mostrar un mensaje que indique si pudo realizar la compra o no, si se realizó la \n",
    "compra muestre los mensajes correspondientes"
   ]
  },
  {
   "cell_type": "code",
   "execution_count": 65,
   "metadata": {},
   "outputs": [
    {
     "name": "stdout",
     "output_type": "stream",
     "text": [
      "Naruto\n"
     ]
    },
    {
     "ename": "ValueError",
     "evalue": "could not convert string to float: 'kdfjkfjdf'",
     "output_type": "error",
     "traceback": [
      "\u001b[1;31m---------------------------------------------------------------------------\u001b[0m",
      "\u001b[1;31mValueError\u001b[0m                                Traceback (most recent call last)",
      "\u001b[1;32m~\\AppData\\Local\\Temp/ipykernel_7600/50036294.py\u001b[0m in \u001b[0;36m<module>\u001b[1;34m\u001b[0m\n\u001b[0;32m      2\u001b[0m \u001b[0manime\u001b[0m\u001b[1;33m=\u001b[0m\u001b[0manime\u001b[0m\u001b[1;33m.\u001b[0m\u001b[0mtitle\u001b[0m\u001b[1;33m(\u001b[0m\u001b[1;33m)\u001b[0m\u001b[1;33m\u001b[0m\u001b[1;33m\u001b[0m\u001b[0m\n\u001b[0;32m      3\u001b[0m \u001b[0mprint\u001b[0m\u001b[1;33m(\u001b[0m\u001b[0manime\u001b[0m\u001b[1;33m)\u001b[0m\u001b[1;33m\u001b[0m\u001b[1;33m\u001b[0m\u001b[0m\n\u001b[1;32m----> 4\u001b[1;33m \u001b[0mpresupuesto\u001b[0m \u001b[1;33m=\u001b[0m \u001b[0mfloat\u001b[0m\u001b[1;33m(\u001b[0m\u001b[0minput\u001b[0m\u001b[1;33m(\u001b[0m\u001b[1;34m\"Ingrese su dinero en efectivo: \"\u001b[0m\u001b[1;33m)\u001b[0m\u001b[1;33m)\u001b[0m\u001b[1;33m\u001b[0m\u001b[1;33m\u001b[0m\u001b[0m\n\u001b[0m\u001b[0;32m      5\u001b[0m \u001b[1;32mif\u001b[0m \u001b[0manime\u001b[0m \u001b[1;32min\u001b[0m \u001b[0manimes\u001b[0m\u001b[1;33m:\u001b[0m\u001b[1;33m\u001b[0m\u001b[1;33m\u001b[0m\u001b[0m\n\u001b[0;32m      6\u001b[0m     \u001b[0mindice\u001b[0m\u001b[1;33m=\u001b[0m \u001b[0manimes\u001b[0m\u001b[1;33m.\u001b[0m\u001b[0mindex\u001b[0m\u001b[1;33m(\u001b[0m\u001b[0manime\u001b[0m\u001b[1;33m)\u001b[0m\u001b[1;33m\u001b[0m\u001b[1;33m\u001b[0m\u001b[0m\n",
      "\u001b[1;31mValueError\u001b[0m: could not convert string to float: 'kdfjkfjdf'"
     ]
    }
   ],
   "source": [
    "anime= input(\"Ingrese un anime: \")\n",
    "anime=anime.title()\n",
    "print(anime)\n",
    "presupuesto = float(input(\"Ingrese su dinero en efectivo: \"))\n",
    "if anime in animes: \n",
    "    indice= animes.index(anime)\n",
    "    precio=precios[indice]\n",
    "    print(\"El costo del anime es: \",precio)\n",
    "    if presupuesto>= precio: \n",
    "        print(\"Compra exitosa!a continuacion el detalle de la compra: \")\n",
    "        print(\"*\"*60)\n",
    "        cambio= presupuesto-precio\n",
    "        print(\"{}:{}\\n{}:{}\\n{}:{:0.2f}\".format(\"Anime\",anime,\"Precio\",precio,\"Cambio\",cambio))\n",
    "        print(\"*\"*60)\n",
    "    else: \n",
    "        print(\"Te falta dinero!!!!\")\n",
    "else: \n",
    "    print(\"Lo sentimos, no tenemos ese anime \")\n",
    "\n",
    "\n",
    "#round \n"
   ]
  },
  {
   "cell_type": "markdown",
   "metadata": {},
   "source": [
    "## Agregar anime\n",
    "Pide al usuario un anime, su costo, y sus géneros, usted deberá ingresar estos datos en \n",
    "las listas correspondientes."
   ]
  },
  {
   "cell_type": "code",
   "execution_count": null,
   "metadata": {},
   "outputs": [],
   "source": [
    "anime= input(\"Ingrese un anime\")\n",
    "costo= float(input(\"Ingrese el costo del anime: \"))\n",
    "genero= input(\"Ingrese los generos separados por coma: \")  #ROMANCE,ADOLESCENTE,GORE\n",
    "lista_genero= genero.split(\",\")\n",
    "animes.append(anime)\n",
    "precios.append(costo)\n",
    "generos.append(lista_genero)\n",
    "\n"
   ]
  },
  {
   "cell_type": "markdown",
   "metadata": {},
   "source": [
    "## Generar catalogo según presupuesto\n",
    "Usted deberá presentar al usuario un catálogo de animes según su presupuestos, estos \n",
    "animes deben ser seleccionados al azar y además deberá obtener un numero aleatorio \n",
    "del 1 al 5 para conocer cuantos se puede llevar. La cantidad de animes va a depender \n",
    "del presupuesto del usuario, usted deberá obtener los animes y el costo de ellos hasta \n",
    "que le alcance el presupuesto al usuario.\n",
    "```\n",
    "Los productos en el catálogo no se pueden repetir. \n",
    "Presente los datos en forma de factura. \n",
    "```\n"
   ]
  },
  {
   "cell_type": "code",
   "execution_count": 60,
   "metadata": {},
   "outputs": [
    {
     "name": "stdout",
     "output_type": "stream",
     "text": [
      "************************************************************\n",
      "Anime                Cant                 Prec Unit                        Subtotal\n",
      "************************************************************\n",
      "Tokyo Revengers      3                    20.8                   62.400000000000006\n",
      "Kimetsu No Yaiba     2                    17.9                                 35.8\n",
      "Jujutsu Kaisen       2                    15.5                                 31.0\n",
      "Boku No Hero         2                    23.56                               47.12\n",
      "Naruto               3                    24.62                               73.86\n",
      "Haikyuu              3                    10.78                  32.339999999999996\n",
      "El total a pagar es:                                                                 282.52\n"
     ]
    }
   ],
   "source": [
    "\n",
    "import random as rd \n",
    "\n",
    "presupuesto= float(input(\"Ingrese su presupuesto\")) #50 \n",
    "print(\"*\"*60)\n",
    "print(\"{:<20} {:<20} {:<20} {:>20}\".format(\"Anime\",\"Cant\", \"Prec Unit\", \"Subtotal\"))\n",
    "print(\"*\"*60)\n",
    "total=0\n",
    "while presupuesto>=0 and len(animes)>0:  #PRESUUESTO> TOTAL +SUBTOTAL     100>80+21\n",
    "    animeA= rd.choice(animes)  #naruto \n",
    "    cant= rd.randint(1,3)\n",
    "    indiceA= animes.index(animeA)\n",
    "    precioU=  precios[indiceA]\n",
    "    subTotal= cant* precioU\n",
    "    #21 ---> 101    \n",
    "    if presupuesto>=subTotal: \n",
    "        total+=subTotal\n",
    "        presupuesto-=subTotal\n",
    "        print(\"{:<20} {:<20} {:<20} {:>20}\".format(animeA,cant,precioU, subTotal))\n",
    "        animes.pop(indiceA)\n",
    "        precios.pop(indiceA)\n",
    "        \n",
    "    else: \n",
    "        presupuesto=-1\n",
    "\n",
    "print(\"El total a pagar es: {:>70}\".format(round(total,2)))\n"
   ]
  },
  {
   "cell_type": "markdown",
   "metadata": {},
   "source": [
    "## Recomendar animes por géneros\n",
    "Presente los animes que son del género que el usuario ingresará."
   ]
  },
  {
   "cell_type": "code",
   "execution_count": 64,
   "metadata": {},
   "outputs": [
    {
     "name": "stdout",
     "output_type": "stream",
     "text": [
      "[]\n"
     ]
    }
   ],
   "source": [
    "genero= input(\"Ingrese el genero a buscar: \")\n",
    "coincidencias=[]\n",
    "for i in range(len(animes)): \n",
    "    anime= animes[i]\n",
    "    lista_generos= generos[i]\n",
    "    if genero in lista_generos: \n",
    "        coincidencias.append(anime)\n",
    "print(coincidencias)\n"
   ]
  },
  {
   "cell_type": "code",
   "execution_count": 23,
   "metadata": {},
   "outputs": [
    {
     "name": "stdout",
     "output_type": "stream",
     "text": [
      "Bienvenido a la tienda Konoha\n",
      "1)Comprar anime\n",
      "2)Agregar anime\n",
      "3)Generar catalogo según presupuesto\n",
      "4) Recomendar animes por genero\n",
      "5)Salir\n",
      "Comprar anime\n"
     ]
    },
    {
     "ename": "KeyboardInterrupt",
     "evalue": "Interrupted by user",
     "output_type": "error",
     "traceback": [
      "\u001b[1;31m---------------------------------------------------------------------------\u001b[0m",
      "\u001b[1;31mKeyboardInterrupt\u001b[0m                         Traceback (most recent call last)",
      "\u001b[1;32m~\\AppData\\Local\\Temp/ipykernel_7600/2260508716.py\u001b[0m in \u001b[0;36m<module>\u001b[1;34m\u001b[0m\n\u001b[0;32m      3\u001b[0m \u001b[0mprint\u001b[0m\u001b[1;33m(\u001b[0m\u001b[1;34m\"Bienvenido a la tienda Konoha\\n1)Comprar anime\\n2)Agregar anime\\n3)Generar catalogo según presupuesto\\n4) Recomendar animes por genero\\n5)Salir\"\u001b[0m\u001b[1;33m)\u001b[0m\u001b[1;33m\u001b[0m\u001b[1;33m\u001b[0m\u001b[0m\n\u001b[0;32m      4\u001b[0m \u001b[1;32mwhile\u001b[0m \u001b[0mopcion\u001b[0m\u001b[1;33m!=\u001b[0m\u001b[1;34m\"5\"\u001b[0m\u001b[1;33m:\u001b[0m\u001b[1;33m\u001b[0m\u001b[1;33m\u001b[0m\u001b[0m\n\u001b[1;32m----> 5\u001b[1;33m     \u001b[0mopcion\u001b[0m\u001b[1;33m=\u001b[0m \u001b[0minput\u001b[0m\u001b[1;33m(\u001b[0m\u001b[1;34m\"Ingrese su opción: \"\u001b[0m\u001b[1;33m)\u001b[0m\u001b[1;33m\u001b[0m\u001b[1;33m\u001b[0m\u001b[0m\n\u001b[0m\u001b[0;32m      6\u001b[0m     \u001b[1;32mif\u001b[0m \u001b[0mopcion\u001b[0m\u001b[1;33m==\u001b[0m\u001b[1;34m\"1\"\u001b[0m\u001b[1;33m:\u001b[0m\u001b[1;33m\u001b[0m\u001b[1;33m\u001b[0m\u001b[0m\n\u001b[0;32m      7\u001b[0m         \u001b[0mprint\u001b[0m\u001b[1;33m(\u001b[0m\u001b[1;34m\"Comprar anime\"\u001b[0m\u001b[1;33m)\u001b[0m\u001b[1;33m\u001b[0m\u001b[1;33m\u001b[0m\u001b[0m\n",
      "\u001b[1;32m~\\AppData\\Local\\Programs\\Python\\Python39\\lib\\site-packages\\ipykernel\\kernelbase.py\u001b[0m in \u001b[0;36mraw_input\u001b[1;34m(self, prompt)\u001b[0m\n\u001b[0;32m   1004\u001b[0m                 \u001b[1;34m\"raw_input was called, but this frontend does not support input requests.\"\u001b[0m\u001b[1;33m\u001b[0m\u001b[1;33m\u001b[0m\u001b[0m\n\u001b[0;32m   1005\u001b[0m             )\n\u001b[1;32m-> 1006\u001b[1;33m         return self._input_request(\n\u001b[0m\u001b[0;32m   1007\u001b[0m             \u001b[0mstr\u001b[0m\u001b[1;33m(\u001b[0m\u001b[0mprompt\u001b[0m\u001b[1;33m)\u001b[0m\u001b[1;33m,\u001b[0m\u001b[1;33m\u001b[0m\u001b[1;33m\u001b[0m\u001b[0m\n\u001b[0;32m   1008\u001b[0m             \u001b[0mself\u001b[0m\u001b[1;33m.\u001b[0m\u001b[0m_parent_ident\u001b[0m\u001b[1;33m[\u001b[0m\u001b[1;34m\"shell\"\u001b[0m\u001b[1;33m]\u001b[0m\u001b[1;33m,\u001b[0m\u001b[1;33m\u001b[0m\u001b[1;33m\u001b[0m\u001b[0m\n",
      "\u001b[1;32m~\\AppData\\Local\\Programs\\Python\\Python39\\lib\\site-packages\\ipykernel\\kernelbase.py\u001b[0m in \u001b[0;36m_input_request\u001b[1;34m(self, prompt, ident, parent, password)\u001b[0m\n\u001b[0;32m   1049\u001b[0m             \u001b[1;32mexcept\u001b[0m \u001b[0mKeyboardInterrupt\u001b[0m\u001b[1;33m:\u001b[0m\u001b[1;33m\u001b[0m\u001b[1;33m\u001b[0m\u001b[0m\n\u001b[0;32m   1050\u001b[0m                 \u001b[1;31m# re-raise KeyboardInterrupt, to truncate traceback\u001b[0m\u001b[1;33m\u001b[0m\u001b[1;33m\u001b[0m\u001b[1;33m\u001b[0m\u001b[0m\n\u001b[1;32m-> 1051\u001b[1;33m                 \u001b[1;32mraise\u001b[0m \u001b[0mKeyboardInterrupt\u001b[0m\u001b[1;33m(\u001b[0m\u001b[1;34m\"Interrupted by user\"\u001b[0m\u001b[1;33m)\u001b[0m \u001b[1;32mfrom\u001b[0m \u001b[1;32mNone\u001b[0m\u001b[1;33m\u001b[0m\u001b[1;33m\u001b[0m\u001b[0m\n\u001b[0m\u001b[0;32m   1052\u001b[0m             \u001b[1;32mexcept\u001b[0m \u001b[0mException\u001b[0m\u001b[1;33m:\u001b[0m\u001b[1;33m\u001b[0m\u001b[1;33m\u001b[0m\u001b[0m\n\u001b[0;32m   1053\u001b[0m                 \u001b[0mself\u001b[0m\u001b[1;33m.\u001b[0m\u001b[0mlog\u001b[0m\u001b[1;33m.\u001b[0m\u001b[0mwarning\u001b[0m\u001b[1;33m(\u001b[0m\u001b[1;34m\"Invalid Message:\"\u001b[0m\u001b[1;33m,\u001b[0m \u001b[0mexc_info\u001b[0m\u001b[1;33m=\u001b[0m\u001b[1;32mTrue\u001b[0m\u001b[1;33m)\u001b[0m\u001b[1;33m\u001b[0m\u001b[1;33m\u001b[0m\u001b[0m\n",
      "\u001b[1;31mKeyboardInterrupt\u001b[0m: Interrupted by user"
     ]
    }
   ],
   "source": [
    "\n",
    "opcion=\"\"\n",
    "\n",
    "\n",
    "while opcion!=\"5\": \n",
    "    print(\"Bienvenido a la tienda Konoha\\n1)Comprar anime\\n2)Agregar anime\\n3)Generar catalogo según presupuesto\\n4) Recomendar animes por genero\\n5)Salir\")\n",
    "    opcion= input(\"Ingrese su opción: \")\n",
    "    if opcion==\"1\": \n",
    "        anime= input(\"Ingrese un anime: \")\n",
    "        anime=anime.title()\n",
    "        print(anime)\n",
    "        presupuesto = float(input(\"Ingrese su dinero en efectivo: \"))\n",
    "        if anime in animes: \n",
    "            indice= animes.index(anime)\n",
    "            precio=precios[indice]\n",
    "            print(\"El costo del anime es: \",precio)\n",
    "            if presupuesto>= precio: \n",
    "                print(\"Compra exitosa!a continuacion el detalle de la compra: \")\n",
    "                print(\"*\"*60)\n",
    "                cambio= presupuesto-precio\n",
    "                print(\"{}:{}\\n{}:{}\\n{}:{:0.2f}\".format(\"Anime\",anime,\"Precio\",precio,\"Cambio\",cambio))\n",
    "                print(\"*\"*60)\n",
    "            else: \n",
    "                print(\"Te falta dinero!!!!\")\n",
    "        else: \n",
    "            print(\"Lo sentimos, no tenemos ese anime \")\n",
    "    print(\"Lo sentimos, no tenemos ese anime \")\n",
    "    elif opcion==\"2\": \n",
    "        anime= input(\"Ingrese un anime\")\n",
    "        costo= float(input(\"Ingrese el costo del anime: \"))\n",
    "        genero= input(\"Ingrese los generos separados por coma: \")  #ROMANCE,ADOLESCENTE,GORE\n",
    "        lista_genero= genero.split(\",\")\n",
    "        animes.append(anime)\n",
    "        precios.append(costo)\n",
    "        generos.append(lista_genero)\n",
    "\n",
    "    elif opcion==\"3\": \n",
    "        print(\"Comprar anime\")\n",
    "    elif opcion==\"4\": \n",
    "        print(\"Comprar anime\")\n",
    "    elif opcion==\"5\": \n",
    "        print(\"Esta saliendo de la tienda \")\n",
    "\n"
   ]
  }
 ],
 "metadata": {
  "interpreter": {
   "hash": "5041e0b8c1aa3c2b121861d4d771e7c37168cb16f529d07accb5a2ba5d560b63"
  },
  "kernelspec": {
   "display_name": "Python 3.9.2 64-bit",
   "name": "python3"
  },
  "language_info": {
   "codemirror_mode": {
    "name": "ipython",
    "version": 3
   },
   "file_extension": ".py",
   "mimetype": "text/x-python",
   "name": "python",
   "nbconvert_exporter": "python",
   "pygments_lexer": "ipython3",
   "version": "3.9.2"
  },
  "metadata": {
   "interpreter": {
    "hash": "8fd0fa209557044ef83cb14c509b9a951234f2ece869ffe9ff565323c71bebdc"
   }
  },
  "orig_nbformat": 2
 },
 "nbformat": 4,
 "nbformat_minor": 2
}
