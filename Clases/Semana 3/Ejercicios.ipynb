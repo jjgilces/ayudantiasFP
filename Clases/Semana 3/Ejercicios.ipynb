{
 "metadata": {
  "language_info": {
   "codemirror_mode": {
    "name": "ipython",
    "version": 3
   },
   "file_extension": ".py",
   "mimetype": "text/x-python",
   "name": "python",
   "nbconvert_exporter": "python",
   "pygments_lexer": "ipython3",
   "version": 3
  },
  "orig_nbformat": 2
 },
 "nbformat": 4,
 "nbformat_minor": 2,
 "cells": [
  {
   "source": [
    "# Strings\n",
    "\n",
    "\n",
    "fp=\"fundamentos de programacion\"\n",
    "fp2=fp.title()\n",
    "\n",
    "print(fp.upper())\n",
    "print(fp2.center(50,\"*\"))\n",
    "\n",
    "print(\"hola\"*5)"
   ],
   "cell_type": "markdown",
   "metadata": {}
  },
  {
   "source": [
    "# Ejercicios"
   ],
   "cell_type": "markdown",
   "metadata": {}
  },
  {
   "source": [
    "## Ejercicio 1\n",
    "Escribir un programa que pida al usuario su peso (en kg) y estatura (en metros), calcule el índice de masa corporal y lo almacene en una variable, e imprima por pantalla la frase Tu índice de masa corporal es <imc> donde <imc> es el índice de masa corporal calculado redondeado con dos decimales. \n",
    "    \n",
    "\n",
    "```\n",
    "IMC= MASA/ALTURA^2\n",
    "\n",
    "```\n"
   ],
   "cell_type": "markdown",
   "metadata": {}
  },
  {
   "cell_type": "code",
   "execution_count": null,
   "metadata": {},
   "outputs": [],
   "source": [
    "\n",
    "\n",
    "pala=\"<div><name>Carlos Andres</name><apellido>Loja Guevara</apellido><edad>20</edad></div>\"\n",
    "inicio_name=pala.index(\"<name>\")+len(\"<name>\")\n",
    "indice2=pala.index(\"<name>\")\n",
    "indice_nameF=pala.index(\"</name>\")\n",
    "\n",
    "inicio_ape=pala.index(\"<apellido>\")+len(\"<apellido>\")\n",
    "indice_apeF=pala.index(\"</apellido>\")\n",
    "\n",
    "inicio_edad=pala.index(\"<edad>\")+len(\"<edad>\")\n",
    "indice_edad=pala.index(\"</edad>\")\n",
    "\n",
    "nombres=pala[inicio_name:indice_nameF]\n",
    "apellido=pala[inicio_ape:indice_apeF]\n",
    "edad=pala[inicio_edad:indice_edad]\n",
    "\n",
    "print(nombres,apellido,edad)\n"
   ]
  },
  {
   "source": [
    "## Ejercicio 2\n",
    "*A usted se le presenta el siguiente string con el formato*\n",
    "```\n",
    "pala_str=<div><name>Johan Jair</name><apellido>Gilces Reyes</apellido><edad>19</edad></div>\n",
    "```\n",
    "Su trabajo sera obtener informacion del string y mostrar la misma en el siguiente formato:\n",
    "```\n",
    "Nombres: Johan Jair\n",
    "Apellidos: Gilces Reyes\n",
    "Edad: 20 \n",
    "```\n"
   ],
   "cell_type": "markdown",
   "metadata": {}
  },
  {
   "source": [
    "## Ejercicio 3 \n",
    "\n",
    "Escribir un programa que tenga una lista de palabras\n",
    "(al menos unas 4) y que devuelva aleatoriamente\n",
    "cualquiera de estas palabras repetida dos veces,\n",
    "pero escrita al revés, ej.\n",
    "```\n",
    ">>> Palabras: Fundamentos, Programacion, Lenguaje, Python\n",
    "La palabra aleatoria invertida es: ejauagneLejauagneL\n",
    "\n",
    "```\n"
   ],
   "cell_type": "markdown",
   "metadata": {}
  },
  {
   "source": [
    "## Ejercicio 4\n",
    "\n",
    "```\n",
    "Escribir un programa que almacene en una lista los\n",
    "siguientes precios, 50, 75, 46, 22, 80, 65, 8, y\n",
    "muestre por pantalla el menor y el mayor de los\n",
    "precios, ademas eliminelos de la lista original.\n",
    "```\n"
   ],
   "cell_type": "markdown",
   "metadata": {}
  }
 ]
}