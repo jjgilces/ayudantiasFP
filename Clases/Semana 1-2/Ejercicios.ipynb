{
 "metadata": {
  "language_info": {
   "codemirror_mode": {
    "name": "ipython",
    "version": 3
   },
   "file_extension": ".py",
   "mimetype": "text/x-python",
   "name": "python",
   "nbconvert_exporter": "python",
   "pygments_lexer": "ipython3",
   "version": "3.9.5"
  },
  "orig_nbformat": 2,
  "kernelspec": {
   "name": "python395jvsc74a57bd08fd0fa209557044ef83cb14c509b9a951234f2ece869ffe9ff565323c71bebdc",
   "display_name": "Python 3.9.5 64-bit"
  },
  "metadata": {
   "interpreter": {
    "hash": "8fd0fa209557044ef83cb14c509b9a951234f2ece869ffe9ff565323c71bebdc"
   }
  }
 },
 "nbformat": 4,
 "nbformat_minor": 2,
 "cells": [
  {
   "source": [
    "### Justifique lo que debe salir por pantalla"
   ],
   "cell_type": "markdown",
   "metadata": {}
  },
  {
   "cell_type": "code",
   "execution_count": 8,
   "metadata": {},
   "outputs": [
    {
     "output_type": "stream",
     "name": "stdout",
     "text": [
      "8\n"
     ]
    }
   ],
   "source": [
    "a= '4.25'\n",
    "b = 4\n",
    "c=int(float(a))+(b)\n",
    "print(c)  "
   ]
  },
  {
   "cell_type": "code",
   "execution_count": 11,
   "metadata": {},
   "outputs": [
    {
     "output_type": "stream",
     "name": "stdout",
     "text": [
      "perreoperreoperreogatogato\n125.0\n"
     ]
    }
   ],
   "source": [
    "print(3*'perreo'+2*'gato')\n",
    "print(promedio)"
   ]
  },
  {
   "cell_type": "code",
   "execution_count": 18,
   "metadata": {},
   "outputs": [
    {
     "output_type": "stream",
     "name": "stdout",
     "text": [
      "2\nFalse\n"
     ]
    }
   ],
   "source": [
    "a=5\n",
    "b=2\n",
    "c=2\n",
    "c= c%(a+b)\n",
    "print(2)\n",
    "ispar= not c%2==0\n",
    "print(ispar)\n",
    "\n"
   ]
  },
  {
   "cell_type": "code",
   "execution_count": 20,
   "metadata": {},
   "outputs": [
    {
     "output_type": "stream",
     "name": "stdout",
     "text": [
      "True\n"
     ]
    }
   ],
   "source": [
    " print(5!=5 or 7>=5) \n",
    " #V or F --> V\n",
    " #F and V --> F"
   ]
  },
  {
   "source": [
    "# Ejercicios \n",
    "## Ejercicio 1\n",
    "\n",
    "Escriba un programa en Python que permita el ingreso de un número, asumir que el usuario siempre ingresará 3 cifras, deberá mostrar por pantalla True si cumple las siguientes condiciones:\n",
    "```\n",
    "El primer número es mayor que el último número, pero menor que el segundo\n",
    "Al menos un número es par\n",
    "```"
   ],
   "cell_type": "markdown",
   "metadata": {}
  },
  {
   "cell_type": "code",
   "execution_count": 23,
   "metadata": {},
   "outputs": [
    {
     "output_type": "stream",
     "name": "stdout",
     "text": [
      "El numero 451 ¿Cumple con las condiciones? True\n"
     ]
    }
   ],
   "source": [
    "numero= input(\"Ingrese un numero: \") #345\n",
    "numeroEntero= int(numero)\n",
    "primerD= int(numero[0])\n",
    "segundoD= int(numero[1])\n",
    "ultimoD= int(numero[-1])\n",
    "condicion1= primerD>ultimoD\n",
    "condicion2= primerD<segundoD\n",
    "condicion3= primerD%2==0 or segundoD%2==0 or ultimoD%2==0\n",
    "condicionTotal = condicion1 & condicion2 and condicion3\n",
    "print(\"El numero {} ¿Cumple con las condiciones? {}\".format(numero,condicionTotal))\n",
    "\n"
   ]
  },
  {
   "source": [
    "## Ejercicio 2\n",
    "Escribir un programa en Python que solicite un número por teclado y muestre True cuando el número se cumpla todas las siguientes condiciones: \n",
    "\n",
    "```El número ingresado debe: estar entre 40 y 80 pero diferente de 60, ó entre -25 y -70 pero diferente de -35, además debe ser divisible para 2 y el número elevado al cuadrado debe ser menor que 1100.```\n",
    "\n",
    "En caso contrario debe mostrar False.\n"
   ],
   "cell_type": "markdown",
   "metadata": {}
  },
  {
   "cell_type": "code",
   "execution_count": 27,
   "metadata": {},
   "outputs": [
    {
     "output_type": "stream",
     "name": "stdout",
     "text": [
      "True\n"
     ]
    }
   ],
   "source": [
    "num= int(input(\"Ingrese un numero: \"))\n",
    "condicion= num>=40 and num<=80 and num!=60\n",
    "condicion2= num<=-25 and num>=-70 and num!=-35\n",
    "condicion3= num%2==0 and num**2<2100\n",
    "condicionTotal = (condicion or condicion2 ) and condicion3\n",
    "print(condicionTotal)"
   ]
  },
  {
   "source": [
    "## Ejercicio 3 \n",
    "\n",
    "Escriba un programa que pida ingresar una cadena\n",
    "de caracteres (input). El programa deberá mostrar\n",
    "por pantalla lo siguiente:\n",
    "```\n",
    "o\tEl número total de caracteres\n",
    "o\tLa cadena repetida 5 veces separada por “-”\n",
    "o\tLos dos últimos caracteres de la cadena\n",
    "o\tLa cadena escrita al revés (Chao --> oahC)\n",
    "o\tLa cadena con cada letra “a” remplazada por una “e”\n",
    "o\tLa “contraseña” de la palabra.    Chao ---> * * * *\n",
    "\n",
    "```\n",
    "\n"
   ],
   "cell_type": "markdown",
   "metadata": {}
  },
  {
   "cell_type": "code",
   "execution_count": 46,
   "metadata": {},
   "outputs": [
    {
     "output_type": "stream",
     "name": "stdout",
     "text": [
      "La longitud es 4.\n hola-hola-hola-hola-hola\nla\naloh\nhole\n****\n"
     ]
    }
   ],
   "source": [
    "palabra = input(\"Ingrese una palabra: \")\n",
    "longitud= len(palabra)\n",
    "palabraX5= (palabra+\"-\")*4 +palabra\n",
    "ultimos= palabra[-2:]  #y[1] holamundo[2:8]-->lamundo\n",
    "alreves= palabra[::-1]\n",
    "reemplazada=palabra.replace(\"a\",\"e\")\n",
    "password= longitudad*\"*\"\n",
    "\n",
    "\n",
    "\n"
   ]
  },
  {
   "cell_type": "code",
   "execution_count": null,
   "metadata": {},
   "outputs": [],
   "source": []
  }
 ]
}