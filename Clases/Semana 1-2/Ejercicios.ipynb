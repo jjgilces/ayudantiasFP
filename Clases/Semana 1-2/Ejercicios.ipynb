{
 "cells": [
  {
   "cell_type": "markdown",
   "metadata": {},
   "source": [
    "### Justifique lo que debe salir por pantalla"
   ]
  },
  {
   "cell_type": "code",
   "execution_count": null,
   "metadata": {},
   "outputs": [],
   "source": [
    "a= '4.25'\n",
    "b = 4\n",
    "c=int(float(a))+(b)\n",
    "print(c)  "
   ]
  },
  {
   "cell_type": "code",
   "execution_count": null,
   "metadata": {},
   "outputs": [],
   "source": [
    "print(3*'perreo'+2*'gato')\n",
    "print(promedio)"
   ]
  },
  {
   "cell_type": "code",
   "execution_count": null,
   "metadata": {},
   "outputs": [],
   "source": [
    "a=5\n",
    "b=2\n",
    "c=2\n",
    "c= c%(a+b)\n",
    "print(2)\n",
    "ispar= not c%2==0\n",
    "print(ispar)\n",
    "\n"
   ]
  },
  {
   "cell_type": "code",
   "execution_count": null,
   "metadata": {},
   "outputs": [],
   "source": [
    " print(5!=5 or 7>=5) \n"
   ]
  },
  {
   "cell_type": "markdown",
   "metadata": {},
   "source": [
    "# Ejercicios \n",
    "## Ejercicio 1\n",
    "\n",
    "Escriba un programa en Python que permita el ingreso de un número, asumir que el usuario siempre ingresará 3 cifras, deberá mostrar por pantalla True si cumple las siguientes condiciones:\n",
    "```\n",
    "El primer número es mayor que el último número, pero menor que el segundo\n",
    "Al menos un número es par\n",
    "```"
   ]
  },
  {
   "cell_type": "code",
   "execution_count": null,
   "metadata": {},
   "outputs": [],
   "source": []
  },
  {
   "cell_type": "markdown",
   "metadata": {},
   "source": [
    "## Ejercicio 2\n",
    "Escribir un programa en Python que solicite un número por teclado y muestre True cuando el número se cumpla todas las siguientes condiciones: \n",
    "\n",
    "```El número ingresado debe: estar entre 40 y 80 pero diferente de 60, ó entre -25 y -70 pero diferente de -35, además debe ser divisible para 2 y el número elevado al cuadrado debe ser menor que 1100.```\n",
    "\n",
    "En caso contrario debe mostrar False.\n"
   ]
  },
  {
   "cell_type": "code",
   "execution_count": null,
   "metadata": {},
   "outputs": [],
   "source": []
  },
  {
   "cell_type": "markdown",
   "metadata": {},
   "source": [
    "## Ejercicio 3 \n",
    "\n",
    "Escriba un programa que pida ingresar una cadena\n",
    "de caracteres (input). El programa deberá mostrar\n",
    "por pantalla lo siguiente:\n",
    "```\n",
    "o\tEl número total de caracteres\n",
    "o\tLa cadena repetida 5 veces separada por “-”\n",
    "o\tLos dos últimos caracteres de la cadena\n",
    "o\tLa cadena escrita al revés (Chao --> oahC)\n",
    "o\tLa cadena con cada letra “a” remplazada por una “e”\n",
    "o\tLa “contraseña” de la palabra.    Chao ---> * * * *\n",
    "\n",
    "```\n",
    "\n"
   ]
  },
  {
   "cell_type": "code",
   "execution_count": null,
   "metadata": {},
   "outputs": [],
   "source": []
  },
  {
   "cell_type": "markdown",
   "metadata": {},
   "source": [
    "## Ejercicio 4\n",
    "Permita al usuario ingresar un texto y presente la frecuencia de veces que aparecen las vocales en el texto. Remueva los signos de puntuacion (, . ! ?)\n",
    "\n"
   ]
  },
  {
   "cell_type": "code",
   "execution_count": null,
   "metadata": {},
   "outputs": [],
   "source": []
  },
  {
   "cell_type": "markdown",
   "metadata": {},
   "source": [
    "# Ejercicio 5\n",
    "## Creacion de cuenta en una página web.\n",
    "\n",
    "Solicite al usuario una  URL del proveedor. Debe empezar con www, que termine en .com y que entre ambos haya letras\n",
    "El usuario deberá ingresar al menos un nombre y un apellido. Al momento de ingresar el usuario debe colocar: \n",
    "Sr, Sra o Srta. Cada dato su primera letra en mayúscula, valídelo.\n",
    "Solicite que el usuario ingrese un correo válido. Un correo es valido si posee solo un @.\n",
    "Solicite el número de tarjeta de crédito, el mismo tiene 16 dígitos, cada 4 dígitos está separado por un espacio o guión.\n",
    "Además, solicite el código CVC, 3 dígitos numericos.\n",
    "Solicite la fecha de caducidad. Debe respetar el formato de fecha: mm/aa. \n",
    "y por ultimo el usuario deberá repetir un código de validación creado aleatoriamente por el sistema para validar que no es una inteligencia artificial.\n"
   ]
  },
  {
   "cell_type": "markdown",
   "metadata": {},
   "source": [
    "\n",
    "\n",
    "\n"
   ]
  },
  {
   "cell_type": "code",
   "execution_count": null,
   "metadata": {},
   "outputs": [],
   "source": [
    "\n",
    "\n",
    "\n",
    "\n",
    "\n",
    "\n",
    "\n",
    "\n"
   ]
  }
 ],
 "metadata": {
  "interpreter": {
   "hash": "5041e0b8c1aa3c2b121861d4d771e7c37168cb16f529d07accb5a2ba5d560b63"
  },
  "kernelspec": {
   "display_name": "Python 3.9.2 64-bit",
   "name": "python3"
  },
  "language_info": {
   "codemirror_mode": {
    "name": "ipython",
    "version": 3
   },
   "file_extension": ".py",
   "mimetype": "text/x-python",
   "name": "python",
   "nbconvert_exporter": "python",
   "pygments_lexer": "ipython3",
   "version": "3.9.2"
  },
  "metadata": {
   "interpreter": {
    "hash": "8fd0fa209557044ef83cb14c509b9a951234f2ece869ffe9ff565323c71bebdc"
   }
  },
  "orig_nbformat": 2
 },
 "nbformat": 4,
 "nbformat_minor": 2
}
