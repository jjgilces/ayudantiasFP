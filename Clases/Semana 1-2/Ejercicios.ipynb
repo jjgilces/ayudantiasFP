{
 "cells": [
  {
   "cell_type": "markdown",
   "metadata": {},
   "source": [
    "### Justifique lo que debe salir por pantalla"
   ]
  },
  {
   "cell_type": "code",
   "execution_count": 8,
   "metadata": {},
   "outputs": [
    {
     "name": "stdout",
     "output_type": "stream",
     "text": [
      "8\n"
     ]
    }
   ],
   "source": [
    "a= '4.25'\n",
    "b = 4\n",
    "c=int(float(a))+(b)\n",
    "print(c)  "
   ]
  },
  {
   "cell_type": "code",
   "execution_count": 11,
   "metadata": {},
   "outputs": [
    {
     "name": "stdout",
     "output_type": "stream",
     "text": [
      "perreoperreoperreogatogato\n",
      "125.0\n"
     ]
    }
   ],
   "source": [
    "print(3*'perreo'+2*'gato')\n",
    "print(promedio)"
   ]
  },
  {
   "cell_type": "code",
   "execution_count": 18,
   "metadata": {},
   "outputs": [
    {
     "name": "stdout",
     "output_type": "stream",
     "text": [
      "2\n",
      "False\n"
     ]
    }
   ],
   "source": [
    "a=5\n",
    "b=2\n",
    "c=2\n",
    "c= c%(a+b)\n",
    "print(2)\n",
    "ispar= not c%2==0\n",
    "print(ispar)\n",
    "\n"
   ]
  },
  {
   "cell_type": "code",
   "execution_count": 20,
   "metadata": {},
   "outputs": [
    {
     "name": "stdout",
     "output_type": "stream",
     "text": [
      "True\n"
     ]
    }
   ],
   "source": [
    " print(5!=5 or 7>=5) \n",
    " #V or F --> V\n",
    " #F and V --> F"
   ]
  },
  {
   "cell_type": "markdown",
   "metadata": {},
   "source": [
    "# Ejercicios \n",
    "## Ejercicio 1\n",
    "\n",
    "Escriba un programa en Python que permita el ingreso de un número, asumir que el usuario siempre ingresará 3 cifras, deberá mostrar por pantalla True si cumple las siguientes condiciones:\n",
    "```\n",
    "El primer número es mayor que el último número, pero menor que el segundo\n",
    "Al menos un número es par\n",
    "```"
   ]
  },
  {
   "cell_type": "code",
   "execution_count": 23,
   "metadata": {},
   "outputs": [
    {
     "name": "stdout",
     "output_type": "stream",
     "text": [
      "El numero 451 ¿Cumple con las condiciones? True\n"
     ]
    }
   ],
   "source": [
    "numero= input(\"Ingrese un numero: \") #345\n",
    "numeroEntero= int(numero)\n",
    "primerD= int(numero[0])\n",
    "segundoD= int(numero[1])\n",
    "ultimoD= int(numero[-1])\n",
    "condicion1= primerD>ultimoD\n",
    "condicion2= primerD<segundoD\n",
    "condicion3= primerD%2==0 or segundoD%2==0 or ultimoD%2==0\n",
    "condicionTotal = condicion1 & condicion2 and condicion3\n",
    "print(\"El numero {} ¿Cumple con las condiciones? {}\".format(numero,condicionTotal))\n",
    "\n"
   ]
  },
  {
   "cell_type": "markdown",
   "metadata": {},
   "source": [
    "## Ejercicio 2\n",
    "Escribir un programa en Python que solicite un número por teclado y muestre True cuando el número se cumpla todas las siguientes condiciones: \n",
    "\n",
    "```El número ingresado debe: estar entre 40 y 80 pero diferente de 60, ó entre -25 y -70 pero diferente de -35, además debe ser divisible para 2 y el número elevado al cuadrado debe ser menor que 1100.```\n",
    "\n",
    "En caso contrario debe mostrar False.\n"
   ]
  },
  {
   "cell_type": "code",
   "execution_count": 27,
   "metadata": {},
   "outputs": [
    {
     "name": "stdout",
     "output_type": "stream",
     "text": [
      "True\n"
     ]
    }
   ],
   "source": [
    "num= int(input(\"Ingrese un numero: \"))\n",
    "condicion= num>=40 and num<=80 and num!=60\n",
    "condicion2= num<=-25 and num>=-70 and num!=-35\n",
    "condicion3= num%2==0 and num**2<2100\n",
    "condicionTotal = (condicion or condicion2 ) and condicion3\n",
    "print(condicionTotal)"
   ]
  },
  {
   "cell_type": "markdown",
   "metadata": {},
   "source": [
    "## Ejercicio 3 \n",
    "\n",
    "Escriba un programa que pida ingresar una cadena\n",
    "de caracteres (input). El programa deberá mostrar\n",
    "por pantalla lo siguiente:\n",
    "```\n",
    "o\tEl número total de caracteres\n",
    "o\tLa cadena repetida 5 veces separada por “-”\n",
    "o\tLos dos últimos caracteres de la cadena\n",
    "o\tLa cadena escrita al revés (Chao --> oahC)\n",
    "o\tLa cadena con cada letra “a” remplazada por una “e”\n",
    "o\tLa “contraseña” de la palabra.    Chao ---> * * * *\n",
    "\n",
    "```\n",
    "\n"
   ]
  },
  {
   "cell_type": "code",
   "execution_count": 46,
   "metadata": {},
   "outputs": [
    {
     "name": "stdout",
     "output_type": "stream",
     "text": [
      "La longitud es 4.\n",
      " hola-hola-hola-hola-hola\n",
      "la\n",
      "aloh\n",
      "hole\n",
      "****\n"
     ]
    }
   ],
   "source": [
    "palabra = input(\"Ingrese una palabra: \")\n",
    "longitud= len(palabra)\n",
    "palabraX5= (palabra+\"-\")*4 +palabra\n",
    "ultimos= palabra[-2:]  #y[1] holamundo[2:8]-->lamundo\n",
    "alreves= palabra[::-1]\n",
    "reemplazada=palabra.replace(\"a\",\"e\")\n",
    "password= longitudad*\"*\"\n",
    "\n",
    "\n",
    "\n"
   ]
  },
  {
   "cell_type": "markdown",
   "metadata": {},
   "source": [
    "\n",
    "\n",
    "\n"
   ]
  },
  {
   "cell_type": "code",
   "execution_count": null,
   "metadata": {},
   "outputs": [],
   "source": [
    "# Ejercicio 5\n",
    "\n",
    "import random as rd \n",
    "\n",
    "#Solicite la URL del proveedor. Empiece con www, que termine en .com, que entre ambos haya letras\n",
    "url = input(\"Ingrese una url:\" ) #www.com\n",
    "cumple_url = url.starwith(\"www\") and url.endswith(\".com\")  and len(url)>7\n",
    "\n",
    "#Solicite que el usuario ingrese al menos un nombre y un apellido. Al momento de ingresar el usuario debe colocar: \n",
    "# Sr, Sra o Srta. Cada dato su primera letra en mayúscula, valídelo.\n",
    "nombre= input(\"Ingrese su nombre y su apellido: \") #Sr Johan Gilces - Srta Ramona Gonzalez - Sra juana Del Arco\n",
    "#\"HOLA\"\n",
    "# 0123\n",
    "indice_espacio= nombre.index(\" \")  #siempre la primera posicion donde encuentra\n",
    "primera_letra= nombre[indice_espacio+1]\n",
    "cumple_nombre= (nombre.starwith(\"Sr\")  or nombre.starwith(\"Sra\")  or nombre.starwith(\"Srta\") )  and primera_letra.isupper()\n",
    "\n",
    "# Solicite que el usuario ingrese un correo válido. Un correo es valido si posee solo un @.\n",
    "correo = input(\"Ingrese un correo: \")  #johan@jair@hotmail.com\n",
    "cumple_correo=       correo.count(\"@\")==1 \n",
    "# @ in correo\n",
    "correo_verificacion= input(\"Ingrese nuevamente su correo: \")\n",
    "coinciden= correo==correo_verificacion \n",
    "\n",
    "\n",
    "#Solicite el número de tarjeta de crédito, el mismo tiene 16 dígitos, cada 4 dígitos está separado por un espacio o guión.\n",
    "#  Además, solicite el código CVC, 3 dígitos numericos.\n",
    "tarjeta_credito= input(\"Ingrese su tarjeta de credito: \")#1-111 22-22 333-3 444-4, 1111-2222-3333-4444\n",
    "digitos_tarjeta= tarjeta_credito.replace(\" \",\"\").replace(\"-\",\"\")\n",
    "\n",
    "cumple_tarjeta= (tarjeta_credito[4]==\" \" or tarjeta_credito[4]==\"-\"  ) and len(tarjeta_credito)==19\n",
    "\n",
    "# Solicite la fecha de caducidad. Debe respetar el formato de fecha: mm/aa. \n",
    "\n",
    "fecha_caducidad= input(\"Ingrese la fecha de caducidad en formato mm/aa:\")      #\"ff/90\"\n",
    "mes= fecha_caducidad[:2] #mm\n",
    "anio= fecha_caducidad[-2:]     #\n",
    "cumple_fecha = fecha_caducidad.count(\"/\")==1   and (mes.isdigit() and anio.isdigit())\n",
    "\n",
    "aleatorio= rd.randint(10000,99999)\n",
    "print(\"El pin es \", aleatorio)\n",
    "pin= int(input(\"Ingrese el codigo pin mostrado en pantalla:\") )\n",
    "acerto= aleatorio==pin  #123 == \"123\"   --NUNCA ME VA A DAR \n",
    "\n",
    "password= input(\"Ingrese una contraseña: \")\n",
    "cumple_password= password[0].isupper()\n",
    "\n",
    "\n",
    "\n",
    "\n",
    "\n",
    "\n",
    "\n",
    "\n",
    "\n"
   ]
  },
  {
   "cell_type": "markdown",
   "metadata": {},
   "source": [
    "Permita al usuario ingresar un texto y presente la frecuencia de veces que aparecen las vocales en el texto. Remueva los signos de puntuacion (, . ! ?)\n",
    "\n",
    "\n"
   ]
  },
  {
   "cell_type": "code",
   "execution_count": 22,
   "metadata": {},
   "outputs": [
    {
     "name": "stdout",
     "output_type": "stream",
     "text": [
      "Letra\tNumero de Aparaciones\n",
      "A\t2\n",
      "hola como estas ?????\n",
      "hola como estas \n"
     ]
    }
   ],
   "source": [
    "#como obtengo el indice de una letra o un string  -- index  and find  \n",
    "#como obtengo la letra a partir de un indice   -- [0]   [-1]\n",
    "#como obtengo una parte de string   -- [inicio:fin+1:salto ]\n",
    "\n",
    "texto= input(\"Ingrese un texto largo: \")\n",
    "texto_limpio= texto.replace(\".\",\"\").replace(\"!\",\"\").replace(\"?\",\"\")\n",
    "num_a= texto.count(\"a\")  #2\n",
    "print(\"Letra\\tNumero de Aparaciones\\nA\\t{}\".format(num_a))\n",
    "\n",
    "\n",
    "\n",
    "print(texto)\n",
    "texto=texto.strip(\"?\")\n",
    "print(texto)\n",
    "\n"
   ]
  }
 ],
 "metadata": {
  "interpreter": {
   "hash": "5041e0b8c1aa3c2b121861d4d771e7c37168cb16f529d07accb5a2ba5d560b63"
  },
  "kernelspec": {
   "display_name": "Python 3.9.2 64-bit",
   "name": "python3"
  },
  "language_info": {
   "codemirror_mode": {
    "name": "ipython",
    "version": 3
   },
   "file_extension": ".py",
   "mimetype": "text/x-python",
   "name": "python",
   "nbconvert_exporter": "python",
   "pygments_lexer": "ipython3",
   "version": "3.9.2"
  },
  "metadata": {
   "interpreter": {
    "hash": "8fd0fa209557044ef83cb14c509b9a951234f2ece869ffe9ff565323c71bebdc"
   }
  },
  "orig_nbformat": 2
 },
 "nbformat": 4,
 "nbformat_minor": 2
}
