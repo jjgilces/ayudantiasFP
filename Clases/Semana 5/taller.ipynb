{
 "cells": [
  {
   "cell_type": "markdown",
   "metadata": {},
   "source": [
    "# Ejercicio 2\n",
    "\n",
    "Un jugador tiene 3 oportunidades para adivinar una carta que la computadora ha seleccionado al azar. Una carta esta compuesta de un numero entre 2-6 y un palo (tipo de carta). \n",
    "\n",
    "El programa le dice al jugador si el numero es mas alto o pequeño después de cada intento si es que no lo adivino, en caso de que lo haya adivinado le indica q es correcto el numero. \n",
    "\n",
    "El programa le dice el color de la carta que selecciono la PC,  sí es que no lo adivino. \n",
    "Sí lo adivino le indica q el palo de carta seleccionado es correcto\n",
    "\n",
    "El programa imprime los mensajes apropiados si el usuario pierde o gana.\n",
    "\n",
    "Ejemplo\n",
    "\n",
    "```\n",
    "Ingrese una carta: 2 CORAZON\n",
    "El numero oculto es mas alto!\n",
    "El palo de carta es NEGRO!\n",
    "\n",
    "Ingrese un numero: 3 PICAS\n",
    "El numero oculto es mas alto!!\n",
    "El palo de carta es correcto!!\n",
    "\n",
    "Ingrese un numero: 6 PICAS\n",
    "El numero oculto es mas bajo!\n",
    "El palo de carta es correcto!!\n",
    "\n",
    "PERDIO SE ACABARON LOS INTENTOS! \n",
    "LA CARTA QUE ESCOGIO LA PC ES: 5 PICAS\n",
    "```"
   ]
  },
  {
   "cell_type": "code",
   "execution_count": null,
   "metadata": {},
   "outputs": [],
   "source": [
    "palos=[\"CORAZON\",\"DIAMANTE\",\"TREBOL\",\"PICAS\"]\n",
    "color=[\"ROJO\",\"ROJO\",\"NEGRO\",\"NEGRO\"]"
   ]
  },
  {
   "cell_type": "code",
   "execution_count": 8,
   "metadata": {},
   "outputs": [
    {
     "name": "stdout",
     "output_type": "stream",
     "text": [
      "El numero oculto es más alto! \n",
      "El color del palo es ROJO\n",
      "El color del palo es ROJO\n",
      "El numero oculto es más bajo!\n",
      "El color del palo es ROJO\n",
      "PERDIO SE ACABARON LOS INTENTOS! \n",
      "La carta que escogió la pc es:  2 DIAMANTE\n"
     ]
    }
   ],
   "source": [
    "vidas=3\n",
    "import random as rd \n",
    "palos=[\"CORAZON\",\"DIAMANTE\",\"TREBOL\",\"PICAS\"]\n",
    "color=[\"ROJO\",\"ROJO\",\"NEGRO\",\"NEGRO\"]\n",
    "numR= rd.randint(2,6)\n",
    "paloR= rd.choice(palos)\n",
    "indicePalo= palos.index(paloR)\n",
    "colorR= color[indicePalo]\n",
    "#2, PICAS\n",
    "#3 intentos \n",
    "while vidas>0  :\n",
    "    usuario= input(\"Ingrese un numero:\")  #3 CORAZON \n",
    "    numero, palo= usuario.split() #[\"3\",\"CORAZON\"]\n",
    "    numero = int(numero) #3\n",
    "    if numero!=numR or paloR!=palo: #SI  falla el jugador tiene una oportunidad menos\n",
    "        vidas-=1\n",
    "    if numero==numR and paloR==palo:\n",
    "        vidas=-1 # una condición para salir del while sin necesidad de break \n",
    "        print(\"Has adivinado \")\n",
    "    if numero>numR:\n",
    "        print(\"El numero oculto es más bajo!\")\n",
    "    elif numero<numR:\n",
    "        print(\"El numero oculto es más alto! \")\n",
    "    if palo!=paloR:\n",
    "        print(\"El color del palo es\",colorR)\n",
    "    else:\n",
    "        print(\"El palo de la carta es Correcto!\") \n",
    "    if vidas==0:\n",
    "        print(\"PERDIO SE ACABARON LOS INTENTOS! \")\n",
    "        print(\"La carta que escogió la pc es:\",numR,paloR)\n"
   ]
  },
  {
   "cell_type": "code",
   "execution_count": null,
   "metadata": {},
   "outputs": [],
   "source": [
    "\n"
   ]
  }
 ],
 "metadata": {
  "interpreter": {
   "hash": "8fd0fa209557044ef83cb14c509b9a951234f2ece869ffe9ff565323c71bebdc"
  },
  "kernelspec": {
   "display_name": "Python 3.9.5 64-bit",
   "name": "python3"
  },
  "language_info": {
   "name": "python",
   "version": ""
  },
  "orig_nbformat": 4
 },
 "nbformat": 4,
 "nbformat_minor": 2
}