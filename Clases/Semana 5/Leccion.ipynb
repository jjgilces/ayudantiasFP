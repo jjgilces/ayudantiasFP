{
 "metadata": {
  "language_info": {
   "codemirror_mode": {
    "name": "ipython",
    "version": 3
   },
   "file_extension": ".py",
   "mimetype": "text/x-python",
   "name": "python",
   "nbconvert_exporter": "python",
   "pygments_lexer": "ipython3",
   "version": "3.9.5"
  },
  "orig_nbformat": 4,
  "kernelspec": {
   "name": "python3",
   "display_name": "Python 3.9.5 64-bit"
  },
  "interpreter": {
   "hash": "8fd0fa209557044ef83cb14c509b9a951234f2ece869ffe9ff565323c71bebdc"
  }
 },
 "nbformat": 4,
 "nbformat_minor": 2,
 "cells": [
  {
   "source": [
    "## Lección 1\n",
    "\n",
    "### Tema1:\n",
    "\n",
    "Permita al usuario ingresar un texto y presente la frecuencia de veces que aparecen las palabras en el texto. Remueva los signos de puntuacion (, . ! ?)\n",
    "\n",
    "Ejemplo:\n",
    "\n",
    "```\n",
    "Ingrese texto: Mira nena, aquí hay una cuestión: el concepto es el concepto. Ésa es la cuestión. Por ejemplo, tú eres una mujer con estudios. Yo no objeto nada al respecto porque soy liberal. Y no soy de ésos que andan diciendo que sois todas más  que las gallinas… aunque lo piense. Pero, ¿y el concepto, eh? eh? ¡Amiga! ¡A los hechos me repito!\n",
    "\n",
    "Contador palabras\n",
    "Mira 1\n",
    "concepto\t3\n",
    "que\t3\n",
    "cuestión\t2\n",
    "una\t2\n",
    "repito\t1\n",
    "los\t1\n",
    "piense\t1\n",
    ".........\n",
    "......\n",
    ".....\n",
    "```\n",
    "\n"
   ],
   "cell_type": "markdown",
   "metadata": {}
  },
  {
   "cell_type": "code",
   "execution_count": 14,
   "metadata": {},
   "outputs": [
    {
     "output_type": "stream",
     "name": "stdout",
     "text": [
      "Contador de palabra\nMira 1\nnena 1\naquí 1\nhay 1\nuna 2\ncuestión: 1\nel 3\nconcepto 3\nes 2\nÉsa 1\nla 1\ncuestión 1\nPor 1\nejemplo 1\ntú 1\neres 1\nmujer 1\ncon 1\nestudios 1\nYo 1\nno 2\nobjeto 1\nnada 1\nal 1\nrespecto 1\nporque 1\nsoy 2\nliberal 1\nY 1\nde 1\nésos 1\nque 3\nandan 1\ndiciendo 1\nsois 1\ntodas 1\nmás 1\n 1\nlas 1\ngallinas… 1\naunque 1\nlo 1\npiense 1\nPero 1\n¿y 1\neh 2\n¡Amiga 1\n¡A 1\nlos 1\nhechos 1\nme 1\nrepito 1\n['Mira', 'nena', 'aquí', 'hay', 'una', 'cuestión:', 'el', 'concepto', 'es', 'Ésa', 'la', 'cuestión', 'Por', 'ejemplo', 'tú', 'eres', 'mujer', 'con', 'estudios', 'Yo', 'no', 'objeto', 'nada', 'al', 'respecto', 'porque', 'soy', 'liberal', 'Y', 'de', 'ésos', 'que', 'andan', 'diciendo', 'sois', 'todas', 'más', '', 'las', 'gallinas…', 'aunque', 'lo', 'piense', 'Pero', '¿y', 'eh', '¡Amiga', '¡A', 'los', 'hechos', 'me', 'repito']\n['Mira', 'nena', 'aquí', 'hay', 'una', 'cuestión:', 'el', 'concepto', 'es', 'el', 'concepto', 'Ésa', 'es', 'la', 'cuestión', 'Por', 'ejemplo', 'tú', 'eres', 'una', 'mujer', 'con', 'estudios', 'Yo', 'no', 'objeto', 'nada', 'al', 'respecto', 'porque', 'soy', 'liberal', 'Y', 'no', 'soy', 'de', 'ésos', 'que', 'andan', 'diciendo', 'que', 'sois', 'todas', 'más', '', 'que', 'las', 'gallinas…', 'aunque', 'lo', 'piense', 'Pero', '¿y', 'el', 'concepto', 'eh', 'eh', '¡Amiga', '¡A', 'los', 'hechos', 'me', 'repito']\n0\n"
     ]
    }
   ],
   "source": [
    "texto=input(\"Ingrese texto: \")\r\n",
    "#Hola \r\n",
    "textoFiltrado= texto.replace(\",\",\"\")\r\n",
    "textoFiltrado=textoFiltrado.replace(\".\",\"\").replace(\"!\",\"\").replace(\"?\",\"\")\r\n",
    "#Hola como hola bien tu tu\r\n",
    "palabras= textoFiltrado.split(\" \")\r\n",
    "palabrasSinRepetir=[]\r\n",
    "\r\n",
    "for palabra in palabras:\r\n",
    "    if palabra not in palabrasSinRepetir:\r\n",
    "        palabrasSinRepetir.append(palabra)\r\n",
    "print(\"Contador de palabra\")\r\n",
    "for palabra in palabrasSinRepetir:\r\n",
    "    # contador=0\r\n",
    "    # for p in palabras:\r\n",
    "    #     if p==palabra:\r\n",
    "    #         contador+=1\r\n",
    "    total=palabras.count(palabra)\r\n",
    "    print(palabra,total)\r\n",
    "    # print(contador)       \r\n",
    "\r\n",
    "#[a,b,c,d]\r\n",
    "#[a,a,a,a,a,b,b,b,c,c,d]\r\n",
    "#hola -->[hola] --->[hola,como]\r\n",
    "print(palabrasSinRepetir)\r\n",
    "print(palabras)\r\n",
    "print(palabras.count(\"hola\"))\r\n"
   ]
  },
  {
   "source": [
    "\n",
    "### Tema2:\n",
    "\n",
    "Escriba un programa que permita ingresar valores y los vaya sumando hasta que el usuario ingrese un numero negativo ejemplo:\n",
    "\n",
    "\n",
    "```\n",
    "Numero: 20\n",
    "Total: 20\n",
    "Numero 40\n",
    "Total:60\n",
    "Numero: -5\n",
    "Total:60\n",
    "\n",
    "```\n",
    "El numero negativo no se considera en la suma."
   ],
   "cell_type": "markdown",
   "metadata": {}
  }
 ]
}