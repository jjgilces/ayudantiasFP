{
 "cells": [
  {
   "cell_type": "markdown",
   "metadata": {},
   "source": [
    "## Lección 1\n",
    "\n",
    "### Tema1:\n",
    "\n",
    "Permita al usuario ingresar un texto y presente la frecuencia de veces que aparecen las palabras en el texto. Remueva los signos de puntuacion (, . ! ?)\n",
    "\n",
    "Ejemplo:\n",
    "\n",
    "```\n",
    "Ingrese texto: Mira nena, aquí hay una cuestión: el concepto es el concepto. Ésa es la cuestión. Por ejemplo, tú eres una mujer con estudios. Yo no objeto nada al respecto porque soy liberal. Y no soy de ésos que andan diciendo que sois todas más  que las gallinas… aunque lo piense. Pero, ¿y el concepto, eh? eh? ¡Amiga! ¡A los hechos me repito!\n",
    "\n",
    "Contador palabras\n",
    "Mira 1\n",
    "concepto\t3\n",
    "que\t3\n",
    "cuestión\t2\n",
    "una\t2\n",
    "repito\t1\n",
    "los\t1\n",
    "piense\t1\n",
    ".........\n",
    "......\n",
    ".....\n",
    "```\n",
    "\n"
   ]
  },
  {
   "cell_type": "code",
   "execution_count": null,
   "metadata": {},
   "outputs": [],
   "source": [
    "texto=input(\"Ingrese texto: \")\n",
    "#Hola \n",
    "textoFiltrado= texto.replace(\",\",\"\")\n",
    "textoFiltrado=textoFiltrado.replace(\".\",\"\").replace(\"!\",\"\").replace(\"?\",\"\")\n",
    "#Hola como hola bien tu tu\n",
    "palabras= textoFiltrado.split(\" \")\n",
    "palabrasSinRepetir=[]\n",
    "\n",
    "for palabra in palabras:\n",
    "    if palabra not in palabrasSinRepetir:\n",
    "        palabrasSinRepetir.append(palabra)\n",
    "print(\"Contador de palabra\")\n",
    "for palabra in palabrasSinRepetir:\n",
    "    # contador=0\n",
    "    # for p in palabras:\n",
    "    #     if p==palabra:\n",
    "    #         contador+=1\n",
    "    total=palabras.count(palabra)\n",
    "    print(palabra,total)\n",
    "    # print(contador)       \n",
    "\n",
    "#[a,b,c,d]\n",
    "#[a,a,a,a,a,b,b,b,c,c,d]\n",
    "#hola -->[hola] --->[hola,como]\n",
    "print(palabrasSinRepetir)\n",
    "print(palabras)\n",
    "print(palabras.count(\"hola\"))\n"
   ]
  },
  {
   "cell_type": "markdown",
   "metadata": {},
   "source": [
    "\n",
    "### Tema2:\n",
    "\n",
    "Escriba un programa que permita ingresar valores y los vaya sumando hasta que el usuario ingrese un numero negativo ejemplo:\n",
    "\n",
    "\n",
    "```\n",
    "Numero: 20\n",
    "Total: 20\n",
    "Numero 40\n",
    "Total:60\n",
    "Numero: -5\n",
    "Total:60\n",
    "\n",
    "```\n",
    "El numero negativo no se considera en la suma."
   ]
  }
 ],
 "metadata": {
  "interpreter": {
   "hash": "8fd0fa209557044ef83cb14c509b9a951234f2ece869ffe9ff565323c71bebdc"
  },
  "kernelspec": {
   "display_name": "Python 3.9.5 64-bit",
   "name": "python3"
  },
  "language_info": {
   "codemirror_mode": {
    "name": "ipython",
    "version": 3
   },
   "file_extension": ".py",
   "mimetype": "text/x-python",
   "name": "python",
   "nbconvert_exporter": "python",
   "pygments_lexer": "ipython3",
   "version": "3.9.5"
  },
  "orig_nbformat": 4
 },
 "nbformat": 4,
 "nbformat_minor": 2
}
