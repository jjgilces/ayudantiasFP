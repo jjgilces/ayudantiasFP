{
 "cells": [
  {
   "cell_type": "markdown",
   "metadata": {},
   "source": [
    "# Resolución examenes de primer parcial"
   ]
  },
  {
   "cell_type": "markdown",
   "metadata": {},
   "source": [
    "##  <span style=\"color:green;\">Análisis de código</span>\n"
   ]
  },
  {
   "cell_type": "markdown",
   "metadata": {},
   "source": [
    "### Ejercicio 1 \n",
    "Que imprime el siguiente código? Justifique su respuesta.\n",
    "\n",
    "```python\n",
    "def multiplicador (numero, lista):\n",
    "    numero+= 2\n",
    "    for pos in range (len (lista)):\n",
    "        lista [pos] *= numero\n",
    "lista = [1,2,3,4,5]\n",
    "numero=2\n",
    "multiplicador(numero, lista)\n",
    "print(numero, lista, sep=\"\\n\")\n",
    "```"
   ]
  },
  {
   "cell_type": "markdown",
   "metadata": {},
   "source": [
    "### Ejercicio 2 \n",
    "Que imprime el siguiente código? Justifique su respuesta.\n",
    "\n",
    "```python\n",
    "frase=\"ella te da detalle\" \n",
    "f1=frase.upper().replace (\" \" ,\"\")\n",
    "f2=list(f1)\n",
    "f2.reverse()\n",
    "f2=\"\".join(f2)\n",
    "if (f1==f2):\n",
    "    print(\"Son palíndromos\")\n",
    "else:\n",
    "    print( \"No son palíndromos\")\n",
    "```"
   ]
  },
  {
   "cell_type": "markdown",
   "metadata": {},
   "source": [
    "### Ejercicio 3 \n",
    "Que imprime el siguiente código? Justifique su respuesta.\n",
    "\n",
    "```python\n",
    "lista = [89, 45, 23, 17, 55, 95, 13, 41, 28, 11] \n",
    "lista.sort() \n",
    "promedio = sum(lista) // len(lista) \n",
    "print(promedio) \n",
    "menores = [] \n",
    "i = 0 \n",
    "while lista[i] < promedio: \n",
    "    menores.append(lista[i]) \n",
    "    i += 1 \n",
    "print(menores)\n",
    "```"
   ]
  },
  {
   "cell_type": "markdown",
   "metadata": {},
   "source": [
    "   _______"
   ]
  },
  {
   "cell_type": "markdown",
   "metadata": {},
   "source": [
    "##  <span style=\"color:green;\">Ejercicios</span>\n"
   ]
  },
  {
   "cell_type": "markdown",
   "metadata": {},
   "source": [
    "### Ejercicio 1\n",
    "Asuma que tiene una lista con el consumo de datos de las aplicaciones en su celular durante un mes como en el \n",
    "siguiente ejemplo: \n",
    "```python\n",
    "junio = ['Facebook-10MB','Spotify-55MB', 'Spotify-112MB', 'Whatsapp-12MB', ...] \n",
    "```\n",
    "Observe que las aplicaciones en la lista se pueden repetir. \n",
    "Muestre por pantalla la cantidad de “Megas” que ha utilizado durante el mes por cada aplicación"
   ]
  },
  {
   "cell_type": "code",
   "execution_count": 2,
   "metadata": {},
   "outputs": [
    {
     "name": "stdout",
     "output_type": "stream",
     "text": [
      "['Facebook', 'Spotify', 'Whatsapp']\n",
      "[22, 167, 36]\n"
     ]
    }
   ],
   "source": [
    "junio = ['Facebook-10MB', 'Spotify-55MB', 'Spotify-112MB', 'Whatsapp-12MB', 'Facebook-12MB','Whatsapp-24MB', ]\n",
    "listaApps=[]\n",
    "listaMegas=[]\n",
    "for datos in junio: \n",
    "    app,megas = datos.split(\"-\") #MEGAS: 10MB\n",
    "    megas= megas.replace(\"MB\",\"\") #\"10\"\n",
    "    megas = int(megas)\n",
    "    if app not in listaApps:\n",
    "        listaApps.append(app)\n",
    "        listaMegas.append(megas)\n",
    "    else:\n",
    "        # PRIMERO ENCUENTRO LA UBICACION/ INDICE DEL ELEMENTO A ACTUALIZAR \n",
    "        indice = listaApps.index(app)\n",
    "        listaMegas[indice] =listaMegas[indice] + megas\n",
    "print(listaApps)\n",
    "print(listaMegas)\n",
    "\n"
   ]
  },
  {
   "cell_type": "code",
   "execution_count": null,
   "metadata": {},
   "outputs": [],
   "source": []
  },
  {
   "cell_type": "markdown",
   "metadata": {},
   "source": [
    "### Ejercicio 2\n",
    "Usted cuenta con una lista de los gatos realizados en los diferentes meses del año. Cada elemento de la lista\n",
    "es un string con los siguientes campos: 'mes|valor|descripcion': \n",
    "```python\n",
    "gatos = ['enero|100|comisariato', 'enero|20 |peluqueria', \"febrero|15llibro\",...]\n",
    "```\n",
    "Escriba un programa que pida al usuario un mes y calcule el total gastado para dicho mes. Si en ese mes no se registraron gastos entonces muestre  **No se realizaron gastos en [mes]** "
   ]
  },
  {
   "cell_type": "code",
   "execution_count": 1,
   "metadata": {},
   "outputs": [],
   "source": [
    "gatos = ['enero|100|comisariato', 'enero|20|peluqueria', 'febrero|15|libro', 'marzo|50|comida']"
   ]
  },
  {
   "cell_type": "markdown",
   "metadata": {},
   "source": [
    "### Ejercicio 3\n",
    "Implemente a funcion rotacion_parcial (numeros, k) que recibe como parametros una lista de numeros y un numero entero positivo k mayor a cero y menor que el tamaño de la lista. La funcion realiza una rotacion parcial hacia la izquierda de la lista, pero solo para los primeros k\n",
    "elementos y retorna una nueva lista: \n",
    "```python\n",
    ">>> lista = [110, 202, 343, 40, 52, 657, 743, 81] #entrada\n",
    ">>> k=3\n",
    ">>> [343, 110, 202, 40, 52, 657, 743, 81] #salida\n",
    "```\n",
    "**Solo los tres primeros elementos de la lista cambian su orden. El resto de elementos de la lista mantienen su orden original.** "
   ]
  },
  {
   "cell_type": "code",
   "execution_count": null,
   "metadata": {},
   "outputs": [],
   "source": [
    "lista = [110, 202, 343, 40, 52, 657, 743, 81]"
   ]
  },
  {
   "cell_type": "markdown",
   "metadata": {},
   "source": [
    "### Ejercicio 4\n",
    "Implemente un programa que determine el porcentaje de efectividad de la función random. shuffle. Para esto siga el siguiente algoritmo:\n",
    "1. Genere una lista de 35 números aleatorios únicos (sin repetición) entre 1 y 350, sin usar shuffle.\n",
    "2. Repita los siguientes pasos 100 veces:\n",
    "   1. Desordene la lista del paso 1 usando la función random. shuffle\n",
    "   2. Contar cuántos elementos han cambiado de posición entre la lista del paso 1 y la lista retornada por shuffle. Llamemos a este valor X.\n",
    "   3. Calcular el porcentaje de efectividad de cada iteración PEfec con la siguiente fórmula e ingrese éste en una nueva lista.\n",
    "   ```\n",
    "    PEfec = X * 100 / len(lista)\n",
    "    ```\n",
    "3. Calcule y muestre por pantalla el porcentaje de efectividad total que es promedio de los porcentajes de efectividad\n",
    "obtenidos en las 100 repeticiones."
   ]
  },
  {
   "cell_type": "code",
   "execution_count": 5,
   "metadata": {},
   "outputs": [
    {
     "data": {
      "text/plain": [
       "[273,\n",
       " 277,\n",
       " 255,\n",
       " 133,\n",
       " 83,\n",
       " 69,\n",
       " 322,\n",
       " 263,\n",
       " 218,\n",
       " 42,\n",
       " 158,\n",
       " 216,\n",
       " 99,\n",
       " 8,\n",
       " 10,\n",
       " 336,\n",
       " 192,\n",
       " 93,\n",
       " 267,\n",
       " 288,\n",
       " 272,\n",
       " 130,\n",
       " 60,\n",
       " 29,\n",
       " 184,\n",
       " 234,\n",
       " 89,\n",
       " 72,\n",
       " 150,\n",
       " 183,\n",
       " 162,\n",
       " 338,\n",
       " 40,\n",
       " 17,\n",
       " 70]"
      ]
     },
     "execution_count": 5,
     "metadata": {},
     "output_type": "execute_result"
    }
   ],
   "source": [
    "import random \n",
    "lista = random.sample(range(1,350),35) #4,5,6\n",
    "listapef=[]\n",
    "totalpef=0\n",
    "for i in range(100):\n",
    "    X=0\n",
    "    listacopia = lista.copy() #4,5,6\n",
    "    random.shuffle(lista) #5,6,4\n",
    "    for i in range(len(lista)):\n",
    "        elemento1= lista[i]\n",
    "        elemento2 = listacopia[i]\n",
    "        if elemento1!=elemento2:\n",
    "            X+=1\n",
    "    pef = X *100 /len(lista)\n",
    "    listapef.append(pef)\n",
    "    totalpef+=pef\n",
    "    lista.append(pef)\n",
    "promedio= sum(listadpef)/len(listapef)\n",
    "promedio2= totalpef/100\n",
    "\n"
   ]
  },
  {
   "cell_type": "code",
   "execution_count": null,
   "metadata": {},
   "outputs": [],
   "source": []
  },
  {
   "cell_type": "markdown",
   "metadata": {},
   "source": [
    "### Ejercicio 5\n",
    "Implemente la función *extraer_datos(listatweets, ciudad)* que recibe una lista de cadenas, el formato de cada cadena se describe abajo, y el nombre de una ciudad. La función retorna tres listas de cadenas paralelas. La primera con las fechas, la segunda con las temperaturas mínimas y la tercera con las temperaturas máximas para la ciudad especificada.\n",
    "Si tenemos la siguiente lista de cadenas llamada tweets:\n",
    "```python\n",
    "tweets = ['El DIA 2021-05-17 en la CIUDAD Guayaquil se registró una TEMP_MIN 18.3 grados centígrados y una TEMP_MAX 27.7 grados centígrados.', ..., 'El DIA 2018-01-11 en la CIUDAD Guayaquil se registró una TEMP_MIN 21.2 grados centígrados y una TEMP_MAX 32.3 grados centígrados.', ..., 'El DIA 2018-01-11 en la CIUDAD Salinas se registró una TEMP_MIN 20.3 grados centígrados y una TEMP_MAX 26.5 grados centígrados.', ..., 'El DIA 2020-04-09 en la CIUDAD Guayaquil se registró una TEMP_MIN 17.5 grados centígrados y una TEMP_MAX 24.2 grados centígrados.', ...]\n",
    "```\n",
    "Observe que las palabras DIA, CIUDAD, TEMP_MIN y TEMP_MAX siempre estarán presentes en cada cadena e indicando que se debe extraer.\n",
    "Si invocamos a la función para la ciudad Guayaquil, obtenemos las siguientes tres listas:\n",
    "```\n",
    "[ '2021-05-17', '2018-01-11', '2020-04-09',...] <-- Lista de fechas\n",
    "[18.3, 21.2, 17.5, ...] <-- Lista de temperaturas mínimas \n",
    "[27.7, 32.3, 24.2, ...] <-- Lista de temperaturas máximas\n",
    "```\n",
    "**Nota**: Recuerde que los datos de arriba son sólo de ejemplo y su solución debe funcionar para cadenas con el mismo formato. Todas las fechas tienen siempre el mismo formato AAAA-MM-DD."
   ]
  },
  {
   "cell_type": "code",
   "execution_count": null,
   "metadata": {},
   "outputs": [],
   "source": []
  },
  {
   "cell_type": "markdown",
   "metadata": {},
   "source": [
    "### Ejercicio 6\n",
    "Suponga que tiene una lista llamada estadísticas que incluye la información del \"Club de los 100 de la FIFA\", que considera sólo a los jugadores que han disputado cien o más partidos\n",
    "internacionales con su selección.\n",
    "```python\n",
    "estadisticas = ['Ahmed Hassan,Centrocampista,Egipto | 184', 'Sergio\n",
    "Ramos, Defensa, España | 180', 'Claudio Suárez, Defensa, México | 177']\n",
    "```\n",
    "*Nota*: la lista se encuentra ordenada de manera descendente con respecto al número de partidos.\n",
    "Cada elemento de la lista es una cadena con los siguientes campos:\n",
    "Jugador, posición de juego, país |partidos\n",
    "Con lo indicando anteriormente se solicita lo siguiente:\n",
    "1. Defina una función de nombre generaListas(estadisticas) que recibe la lista de estadísticas y debe retornar 4 listas paralelas de (jugadores, posiciones, países y partidos) [10 puntos].\n",
    "2. Defina una función de nombre estadisticasPais(jugadores,paises,partidos,pais)querecibe la lista de jugadores, países, partidos y el nombre de un país. La función retorna una lista con los nombres de los jugadores del país proporcionado y un entero que indica el número de partidos promedio para ese país.[10 puntos]\n",
    "Implementar un programa principal con lo siguiente\n",
    "   1. Solicitar al usuario el ingreso de un país y que luego muestre por pantalla los nombres de los jugadores de ese país y el número de partidos promedio general del país. [10 puntos]\n",
    "   2. Luego, muestre por pantalla el top 5 de los jugadores cuya posición sea delantero. [15 puntos]\n",
    "   3. Luego, muestre por pantalla los jugadores cuya cantidad de partidos es mayor al promedio de todos los jugadores.[10 puntos]\n",
    "   4. Finalmente, muestre por pantalla el top 10 de los países con mayor cantidad de futbolistas. [15 puntos]"
   ]
  },
  {
   "cell_type": "code",
   "execution_count": null,
   "metadata": {},
   "outputs": [],
   "source": []
  },
  {
   "cell_type": "markdown",
   "metadata": {},
   "source": [
    "### Ejercicio 7\n",
    "Escriba un programa en Python que implemente el “Juego de las Ruedas”. Para esto genere aleatoriamente  una lista de 12 elementos donde cuatro elementos deben decir “Rueda” y los otros ocho deben decir “X”. \n",
    "\n",
    "Luego  el  programa  deberá  pedirle  al  jugador  que  ingrese  por  teclado  índices  entre  0  y  11  (validar). \n",
    "\n",
    "Asuma  que  el  jugador siempre ingresa índices distintos. Si el índice ingresado por el usuario corresponde al de una “Rueda”, gana  $1000.  El  jugador  tiene  seis  intentos  para hallar las cuatro “Ruedas”. En cada intento muestre por pantalla el  número total de “Ruedas” encontradas hasta el momento. Si el jugador encuentra las cuatro “Ruedas” se gana un \n",
    "carro. El juego termina cuando encuentra las cuatro “Ruedas” o ha usado todos los intentos.\n",
    "\n",
    "Al  final  muestre  el  premio  que  recibe  el  jugador  (cantidad  de  dólares  o  la  palabra  “carro”  si  encontró  las  cuatro \n",
    "ruedas)"
   ]
  },
  {
   "cell_type": "code",
   "execution_count": null,
   "metadata": {},
   "outputs": [],
   "source": [
    "import random \n",
    "lista=[\"X\"]* 8 + [\"RUEDA\"] * 4\n",
    "random.shuffle(lista)\n",
    "\n",
    "indice = int(input(\"Ingrese un indice:\"))\n",
    "while indice> 11 or indice<0: \n",
    "  indice = int(input(\"ESCRIBE un indice CORRECTO:\"))\n",
    "vidas =6 \n",
    "encontradas=0\n",
    "premio =0\n",
    "while vidas> 0  and encontradas!=4:\n",
    "    elemento = lista[indice] #RUEDA O X \n",
    "    if elemento ==\"RUEDA\":\n",
    "        premio+=1000\n",
    "        encontradas+=1\n",
    "    vidas-=1\n",
    "\n",
    "    print(\"ENCONTRADAS: \", encontradas)\n",
    "if encontradas==4:\n",
    "    print(\"se ganó un carro\")\n",
    "print(\"HA GANADO:\", premio)\n",
    "\n",
    "\n",
    "\n",
    "  "
   ]
  }
 ],
 "metadata": {
  "kernelspec": {
   "display_name": "Python 3",
   "language": "python",
   "name": "python3"
  },
  "language_info": {
   "codemirror_mode": {
    "name": "ipython",
    "version": 3
   },
   "file_extension": ".py",
   "mimetype": "text/x-python",
   "name": "python",
   "nbconvert_exporter": "python",
   "pygments_lexer": "ipython3",
   "version": "3.10.3"
  }
 },
 "nbformat": 4,
 "nbformat_minor": 2
}
