{
 "cells": [
  {
   "cell_type": "markdown",
   "metadata": {},
   "source": [
    "# Resolución examenes de primer parcial"
   ]
  },
  {
   "cell_type": "markdown",
   "metadata": {},
   "source": [
    "##  <span style=\"color:green;\">Análisis de código</span>\n"
   ]
  },
  {
   "cell_type": "markdown",
   "metadata": {},
   "source": [
    "### Ejercicio 1 \n",
    "Que imprime el siguiente código? Justifique su respuesta.\n",
    "\n",
    "```python\n",
    "def multiplicador (numero, lista):\n",
    "    numero+= 2\n",
    "    for pos in range (len (lista)):\n",
    "        lista [pos] *= numero\n",
    "lista = [1,2,3,4,5]\n",
    "numero=2\n",
    "multiplicador(numero, lista)\n",
    "print(numero, lista, sep=\"\\n\")\n",
    "```"
   ]
  },
  {
   "cell_type": "markdown",
   "metadata": {},
   "source": [
    "### Ejercicio 2 \n",
    "Que imprime el siguiente código? Justifique su respuesta.\n",
    "\n",
    "```python\n",
    "frase-\"ella te da detalle\" f1=frase upper () . replace (\" \" \"\")\n",
    "f2=list (f1)\n",
    "f2. reverse ( f2=\"\" . join (f2)\n",
    "if (f1=f2):\n",
    "    print(\"Son palíndromos\")\n",
    "else:\n",
    "    print( \"No son palíndromos\")\n",
    "```"
   ]
  },
  {
   "cell_type": "markdown",
   "metadata": {},
   "source": [
    "### Ejercicio 3 \n",
    "Que imprime el siguiente código? Justifique su respuesta.\n",
    "\n",
    "```python\n",
    "lista = [89, 45, 23, 17, 55, 95, 13, 41, 28, 11] \n",
    "lista.sort() \n",
    "promedio = sum(lista) // len(lista) \n",
    "print(promedio) \n",
    "menores = [] \n",
    "i = 0 \n",
    "while lista[i] < promedio: \n",
    "    menores.append(lista[i]) \n",
    "    i += 1 \n",
    "print(menores)\n",
    "```"
   ]
  },
  {
   "cell_type": "markdown",
   "metadata": {},
   "source": [
    "   _______"
   ]
  },
  {
   "cell_type": "markdown",
   "metadata": {},
   "source": [
    "##  <span style=\"color:green;\">Ejercicios</span>\n"
   ]
  },
  {
   "cell_type": "markdown",
   "metadata": {},
   "source": [
    "### Ejercicio 1\n",
    "Asuma que tiene una lista con el consumo de datos de las aplicaciones en su celular durante un mes como en el \n",
    "siguiente ejemplo: \n",
    "```python\n",
    "junio = ['Facebook-10MB','Spotify-55MB', 'Spotify-112MB', 'Whatsapp-12MB', ...] \n",
    "```\n",
    "Observe que las aplicaciones en la lista se pueden repetir. \n",
    "Muestre por pantalla la cantidad de “Megas” que ha utilizado durante el mes por cada aplicación"
   ]
  },
  {
   "cell_type": "markdown",
   "metadata": {},
   "source": [
    "### Ejercicio 2\n",
    "Usted cuenta con una lista de los gatos realizados en los diferentes meses del año. Cada elemento de la lista\n",
    "es un string con los siguientes campos: 'mes|valor|descripcion': \n",
    "```python\n",
    "gatos = ['enero|100|comisariato', 'enero|20 |peluqueria', \"febrero|15llibro\",...]\n",
    "```\n",
    "Escriba un programa que pida al usuario un mes y calcule el total gastado para dicho mes. Si en ese mes no se registraron gastos entonces muestre  **No se realizaron gastos en [mes]** "
   ]
  },
  {
   "cell_type": "markdown",
   "metadata": {},
   "source": [
    "### Ejercicio 3\n",
    "Implemente a funcion rotacion_parcial (numeros, k) que recibe como parametros una lista de numeros y un numero entero positivo k mayor a cero y menor que el tamaño de la lista. La funcion realiza una rotacion parcial hacia la izquierda de la lista, pero solo para los primeros k\n",
    "elementos y retorna una nueva lista: \n",
    "```python\n",
    ">>> lista = [110, 202, 343, 40, 52, 657, 743, 81] #entrada\n",
    ">>> k=3\n",
    ">>> [343, 110, 202, 40, 52, 657, 743, 81] #salida\n",
    "```\n",
    "**Solo los tres primeros elementos de la lista cambian su orden. El resto de elementos de la lista mantienen su orden original.** "
   ]
  },
  {
   "cell_type": "markdown",
   "metadata": {},
   "source": [
    "### Ejercicio 4\n",
    "Usted cuenta con una lista de los gatos realizados en los diferentes meses del año. Cada elemento de la lista\n",
    "es un string con los siguientes campos: 'mes|valor|descripcion': \n",
    "```python\n",
    "gatos = ['enero|100|comisariato', 'enero|20 |peluqueria', \"febrero|15llibro\",...]\n",
    "```\n",
    "Escriba un programa que pida al usuario un mes y calcule el total gastado para dicho mes. Si en ese mes no se registraron gastos entonces muestre  **No se realizaron gastos en [mes]** "
   ]
  },
  {
   "cell_type": "markdown",
   "metadata": {},
   "source": [
    "### Ejercicio 5\n",
    "Implemente la función *extraer_datos(listatweets, ciudad)* que recibe una lista de cadenas, el formato de cada cadena se describe abajo, y el nombre de una ciudad. La función retorna tres listas de cadenas paralelas. La primera con las fechas, la segunda con las temperaturas mínimas y la tercera con las temperaturas máximas para la ciudad especificada.\n",
    "Si tenemos la siguiente lista de cadenas llamada tweets:\n",
    "```python\n",
    "tweets = ['El DIA 2021-05-17 en la CIUDAD Guayaquil se registró una TEMP_MIN 18.3 grados centígrados y una TEMP_MAX 27.7 grados centígrados.', ..., 'El DIA 2018-01-11 en la CIUDAD Guayaquil se registró una TEMP_MIN 21.2 grados centígrados y una TEMP_MAX 32.3 grados centígrados.', ..., 'El DIA 2018-01-11 en la CIUDAD Salinas se registró una TEMP_MIN 20.3 grados centígrados y una TEMP_MAX 26.5 grados centígrados.', ..., 'El DIA 2020-04-09 en la CIUDAD Guayaquil se registró una TEMP_MIN 17.5 grados centígrados y una TEMP_MAX 24.2 grados centígrados.', ...]\n",
    "```\n",
    "Observe que las palabras DIA, CIUDAD, TEMP_MIN y TEMP_MAX siempre estarán presentes en cada cadena e indicando que se debe extraer.\n",
    "Si invocamos a la función para la ciudad Guayaquil, obtenemos las siguientes tres listas:\n",
    "```\n",
    "[ '2021-05-17', '2018-01-11', '2020-04-09',...] <-- Lista de fechas\n",
    "[18.3, 21.2, 17.5, ...] <-- Lista de temperaturas mínimas \n",
    "[27.7, 32.3, 24.2, ...] <-- Lista de temperaturas máximas\n",
    "```\n",
    "**Nota**: Recuerde que los datos de arriba son sólo de ejemplo y su solución debe funcionar para cadenas con el mismo formato. Todas las fechas tienen siempre el mismo formato AAAA-MM-DD."
   ]
  },
  {
   "cell_type": "markdown",
   "metadata": {},
   "source": []
  }
 ],
 "metadata": {
  "language_info": {
   "name": "python"
  }
 },
 "nbformat": 4,
 "nbformat_minor": 2
}
