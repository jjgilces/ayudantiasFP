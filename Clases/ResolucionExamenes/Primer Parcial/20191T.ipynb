{
 "cells": [
  {
   "cell_type": "markdown",
   "metadata": {},
   "source": [
    "# Examen Primer Parcial "
   ]
  },
  {
   "cell_type": "markdown",
   "metadata": {},
   "source": [
    "## TEMA 1\n",
    "Escriba un programa en Python que implemente el “Juego de las Ruedas”. Para esto genere aleatoriamente una lista de 12 elementos donde cuatro elementos deben decir “Rueda” y los otros ocho deben decir “X”.\n",
    "\n",
    "Luego el programa deberá pedirle al jugador que ingrese por teclado índices entre 0 y 11 (validar). Asuma que el jugador siempre ingresa índices distintos. Si el índice ingresado por el usuario corresponde al de una “Rueda”, gana $1000. El jugador tiene seis intentos para hallar las cuatro “Ruedas”. En cada intento muestre por pantalla el número total de “Ruedas” encontradas hasta el momento. Si el jugador encuentra las cuatro “Ruedas” se gana un carro. El juego termina cuando encuentra las cuatro “Ruedas” o ha usado todos los intentos.\n",
    "Al final muestre el premio que recibe el jugador (cantidad de dólares o la palabra “carro” si encontró las cuatro ruedas)."
   ]
  },
  {
   "cell_type": "code",
   "execution_count": 23,
   "metadata": {},
   "outputs": [
    {
     "name": "stdout",
     "output_type": "stream",
     "text": [
      "['X', 'X', 'RUEDAS', 'X', 'X', 'X', 'X', 'RUEDAS', 'X', 'RUEDAS', 'RUEDAS', 'X']\n",
      "Has encontrado 1 ruedas\n",
      "Has encontrado 1 ruedas\n",
      "Has encontrado 1 ruedas\n",
      "Has encontrado 1 ruedas\n",
      "Has encontrado 1 ruedas\n",
      "Has encontrado 1 ruedas\n",
      "Has ganado 1000 dolares\n"
     ]
    }
   ],
   "source": [
    "import random as rd \n",
    "objetos= [\"RUEDAS\"]*4 + [\"X\"]*8\n",
    "rd.shuffle(objetos)\n",
    "print(objetos)\n",
    "def validarEntero(indice): \n",
    "    while not indice.isdigit():#validar que sea un digito entero \n",
    "        indice = input(\"Ingrese un digido correcto entre 0 y 11:\")#\n",
    "    indice= int(indice)\n",
    "    while indice< 0 or indice >11: \n",
    "        indice = int(input(\"Ingrese un indice correcto entre 0 y 11:\"))\n",
    "    return indice \n",
    "\n",
    "dinero= 0 \n",
    "intentos =6 \n",
    "encontradas=0\n",
    "while intentos >0 and encontradas!=4:  #mientras tenga intentos y no he encontrado 4 ruedas\n",
    "    indice = input(\"Ingrese indices entre 0 y 11:\")#string\n",
    "    indice = validarEntero(indice)# un digito entre 0 y 11\n",
    "    objeto = objetos[indice]\n",
    "    if objeto == \"RUEDAS\":\n",
    "        dinero+=1000\n",
    "        encontradas+=1\n",
    "    # else: #opcional \n",
    "    #     print(\"te has encontrado con UNA X \")\n",
    "    intentos-=1\n",
    "    print(\"Has encontrado {} ruedas\".format(encontradas))\n",
    "if encontradas ==4: \n",
    "    print(\"GANASTE UN CARRO\")\n",
    "else: \n",
    "    print(\"Has ganado {} dolares\".format(dinero))\n",
    "\n",
    "\n",
    "while intentos > 0 &  ruedas_encontradas != 4:\n",
    "        print(\"\\nIntentos restantes:\", intentos)\n",
    "        print(\"Número total de 'Ruedas' encontradas hasta el momento:\", ruedas_encontradas)\n",
    "        print(\"Estado actual:\", \" \".join(elementos))\n",
    "\n",
    "        try:\n",
    "            indice = int(input(\"Ingresa un índice entre 0 y 11: \"))\n",
    "\n",
    "            if 0 <= indice < 12:\n",
    "                if elementos[indice] == \"Rueda\":\n",
    "                    print(\"¡Encontraste una 'Rueda'! Ganaste $1000.\")\n",
    "                    ruedas_encontradas += 1\n",
    "                    elementos[indice] = \"Encontrada\"\n",
    "                    \n",
    "                else:\n",
    "                    print(\"No es una 'Rueda'. Sigue buscando.\")\n",
    "                intentos -= 1\n",
    "            else:\n",
    "                print(\"Índice fuera de rango. Debe estar entre 0 y 11.\")\n",
    "\n",
    "        except ValueError:\n",
    "            print(\"Entrada inválida. Ingresa un número válido entre 0 y 11.\")\n",
    "\n",
    "    print(\"Te quedaste sin intentos. El juego ha terminado.\")\n",
    "    if ruedas_encontradas == 4:\n",
    "        print(\"¡Felicidades! Ganaste un carro.\")\n",
    "    else:\n",
    "        print(\"No lograste encontrar las cuatro 'Ruedas'.\")\n",
    "\n",
    "#cada vez que te digan validar --> while \n",
    "\n",
    "\n"
   ]
  },
  {
   "cell_type": "code",
   "execution_count": 17,
   "metadata": {},
   "outputs": [
    {
     "name": "stdout",
     "output_type": "stream",
     "text": [
      "c\n",
      "2\n"
     ]
    }
   ],
   "source": [
    "l=[\"a\",\"b\",\"c\"]\n",
    "objeto = l[1]\n",
    "ultimo =l[-1]\n",
    "primero=l[0]\n",
    "print(ultimo)\n",
    "print(l.index(\"c\"))"
   ]
  },
  {
   "cell_type": "markdown",
   "metadata": {},
   "source": []
  },
  {
   "cell_type": "markdown",
   "metadata": {},
   "source": [
    "## Tema 2\n",
    "Asuma que tiene una lista con el consumo de datos de las aplicaciones en su celular durante un mes como en el siguiente ejemplo:\n",
    "Muestre por pantalla la cantidad de “Megas” que ha utilizado durante el mes por cada aplicación."
   ]
  },
  {
   "cell_type": "code",
   "execution_count": 35,
   "metadata": {},
   "outputs": [
    {
     "name": "stdout",
     "output_type": "stream",
     "text": [
      "['Facebook', 'Spotify', 'Whatsapp']\n",
      "[22, 167, 12]\n"
     ]
    }
   ],
   "source": [
    "junio = ['Facebook-10MB', 'Spotify-55MB', 'Spotify-112MB', 'Whatsapp-12MB', 'Facebook-12MB']\n",
    "aplicaciones=[]\n",
    "megas=[]\n",
    "for elemento in junio:\n",
    "    red, mega=elemento.split(\"-\")\n",
    "    mega= int(mega[:-2])\n",
    "    if red not in aplicaciones:\n",
    "        aplicaciones.append(red)\n",
    "        megas.append(mega)\n",
    "    else: \n",
    "        indice = aplicaciones.index(red)\n",
    "        megas[indice]+=mega \n",
    "print(aplicaciones)\n",
    "print(megas)\n"
   ]
  },
  {
   "cell_type": "code",
   "execution_count": null,
   "metadata": {},
   "outputs": [],
   "source": []
  },
  {
   "cell_type": "markdown",
   "metadata": {},
   "source": [
    "# Tema 3 \n",
    "Implemente la función racha(lista) que reciba una lista de cualquier longitud compuesta únicamente de ceros (0) y unos (1) en un orden aleatorio.\n",
    "Recorriendo la lista UNA SOLA VEZ, la función debe retornar el tamaño de la mayor racha (cantidad de unos consecutivos) detectados en la lista."
   ]
  },
  {
   "cell_type": "code",
   "execution_count": 47,
   "metadata": {},
   "outputs": [
    {
     "name": "stdout",
     "output_type": "stream",
     "text": [
      "6\n"
     ]
    }
   ],
   "source": [
    "lista = [0, 1, 1, 0, 1, 1, 1, 0, 0, 1]\n",
    "def crearRacha(lista):\n",
    "    rachas=[]\n",
    "    contador=0\n",
    "    for ele in lista:\n",
    "        if ele ==1: \n",
    "            contador+=1\n",
    "        else: \n",
    "            rachas.append(contador)\n",
    "            contador=0\n",
    "    maxi= max(rachas)\n",
    "    return maxi\n",
    "\n",
    "lista2=[1,1,1,1,1,1,0,0,1,0,1,0,1]\n",
    "print(crearRacha(lista2))\n",
    "    "
   ]
  },
  {
   "cell_type": "markdown",
   "metadata": {},
   "source": [
    "## Refuerzo \n",
    "Cree una funcion que reciba 2 listas paralelas de nombres\n",
    "y calificaciones, retorne el alumno con la mayor\n",
    "calificacion"
   ]
  },
  {
   "cell_type": "code",
   "execution_count": 50,
   "metadata": {},
   "outputs": [
    {
     "name": "stdout",
     "output_type": "stream",
     "text": [
      "PEDRO\n"
     ]
    }
   ],
   "source": [
    "def maximoNombre(nombres, calificaciones):\n",
    "    maximo = max(calificaciones)#de lista numerica\n",
    "    indice = calificaciones.index(maximo)#0,1,2\n",
    "    nombreM= nombres[indice]\n",
    "    return nombreM\n",
    "\n",
    "nombres=[\"JUAN\",\"PABLO\",\"PEDRO\",\"MARIA\"]\n",
    "calificaciones= [7,7,9,8]\n",
    "print(maximoNombre(nombres,calificaciones))"
   ]
  },
  {
   "cell_type": "code",
   "execution_count": null,
   "metadata": {},
   "outputs": [],
   "source": []
  }
 ],
 "metadata": {
  "interpreter": {
   "hash": "b0fa6594d8f4cbf19f97940f81e996739fb7646882a419484c72d19e05852a7e"
  },
  "kernelspec": {
   "display_name": "Python 3.10.8 64-bit",
   "language": "python",
   "name": "python3"
  },
  "language_info": {
   "codemirror_mode": {
    "name": "ipython",
    "version": 3
   },
   "file_extension": ".py",
   "mimetype": "text/x-python",
   "name": "python",
   "nbconvert_exporter": "python",
   "pygments_lexer": "ipython3",
   "version": "3.10.8"
  },
  "orig_nbformat": 4
 },
 "nbformat": 4,
 "nbformat_minor": 2
}
