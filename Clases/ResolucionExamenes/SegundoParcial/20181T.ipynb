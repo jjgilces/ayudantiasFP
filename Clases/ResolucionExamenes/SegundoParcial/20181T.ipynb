{
 "cells": [
  {
   "cell_type": "code",
   "execution_count": null,
   "metadata": {},
   "outputs": [],
   "source": [
    "{'Guayaquil': {'robo vehiculo':605, 'asalto':6345,...},\n",
    "'Cuenca': {'robo vehiculo':123, 'asalto':676,...},\n",
    "}"
   ]
  },
  {
   "cell_type": "code",
   "execution_count": 14,
   "metadata": {},
   "outputs": [],
   "source": [
    "def cargaDatos(): \n",
    "    dicc = {'Guayaquil': {'robo vehiculo':605, 'asalto':6345},\n",
    "'Cuenca': {'robo vehiculo':123, 'asalto':676},'Quito': {'robo vehiculo':2, 'asalto':500}}\n",
    "    return dicc\n",
    "#[[GUAYAQUIL, CUENCA],[ROBO VEHICULO, ASALTO]]\n",
    "#EN DICCIONARIOS LA CLAVE NO SE REPITE \n"
   ]
  },
  {
   "cell_type": "code",
   "execution_count": 15,
   "metadata": {},
   "outputs": [
    {
     "name": "stdout",
     "output_type": "stream",
     "text": [
      "{'Guayaquil': {'robo vehiculo': 605, 'asalto': 6345}, 'Cuenca': {'robo vehiculo': 123, 'asalto': 676}, 'Quito': {'robo vehiculo': 2, 'asalto': 500}}\n"
     ]
    }
   ],
   "source": [
    "diccionario= cargaDatos()\n",
    "print(diccionario)"
   ]
  },
  {
   "cell_type": "code",
   "execution_count": 5,
   "metadata": {},
   "outputs": [
    {
     "data": {
      "text/plain": [
       "['Guayaquil', 'Cuenca']"
      ]
     },
     "execution_count": 5,
     "metadata": {},
     "output_type": "execute_result"
    }
   ],
   "source": [
    "list(diccionario.keys())"
   ]
  },
  {
   "cell_type": "code",
   "execution_count": 9,
   "metadata": {},
   "outputs": [
    {
     "name": "stdout",
     "output_type": "stream",
     "text": [
      "('robo vehiculo', 605)\n",
      "('asalto', 6345)\n",
      "('robo vehiculo', 123)\n",
      "('asalto', 676)\n"
     ]
    }
   ],
   "source": [
    "delitos=[]\n",
    "for valores in diccionario.values():\n",
    "    for delito, valor in valores.items():\n",
    "        if delito not in delitos:\n",
    "            delitos.append(delito)\n",
    "        "
   ]
  },
  {
   "cell_type": "code",
   "execution_count": 16,
   "metadata": {},
   "outputs": [],
   "source": [
    "def ciudadesCrimenes(diccionario):  \n",
    "    ciudadesUnicas= list(diccionario.keys())\n",
    "    delitos=[]\n",
    "    for valores in diccionario.values():\n",
    "        for delito, valor in valores.items():\n",
    "            if delito not in delitos:\n",
    "                delitos.append(delito)\n",
    "            \n",
    "    return ciudadesUnicas, delitos"
   ]
  },
  {
   "cell_type": "code",
   "execution_count": 17,
   "metadata": {},
   "outputs": [
    {
     "name": "stdout",
     "output_type": "stream",
     "text": [
      "['Guayaquil', 'Cuenca', 'Quito']\n"
     ]
    }
   ],
   "source": [
    "ciudades, delitos = ciudadesCrimenes(diccionario)\n",
    "print(ciudades)"
   ]
  },
  {
   "cell_type": "code",
   "execution_count": 18,
   "metadata": {},
   "outputs": [
    {
     "name": "stdout",
     "output_type": "stream",
     "text": [
      "['robo vehiculo', 'asalto']\n"
     ]
    }
   ],
   "source": [
    "print(delitos)"
   ]
  },
  {
   "cell_type": "code",
   "execution_count": 21,
   "metadata": {},
   "outputs": [
    {
     "name": "stdout",
     "output_type": "stream",
     "text": [
      "[[0. 0.]\n",
      " [0. 0.]\n",
      " [0. 0.]]\n"
     ]
    }
   ],
   "source": [
    "import numpy as np\n",
    "cantidadCiudades= len(ciudades)\n",
    "cantidadDelitos= len(delitos)\n",
    "\n",
    "matrizCrimenes= np.zeros((cantidadCiudades,cantidadDelitos), dtype=int)\n",
    "\n",
    "print(matrizCrimenes)\n"
   ]
  },
  {
   "cell_type": "code",
   "execution_count": 26,
   "metadata": {},
   "outputs": [
    {
     "name": "stdout",
     "output_type": "stream",
     "text": [
      "Guayaquil\n",
      "robo vehiculo\n",
      "605\n",
      "Guayaquil\n",
      "asalto\n",
      "6345\n",
      "Cuenca\n",
      "robo vehiculo\n",
      "123\n",
      "Cuenca\n",
      "asalto\n",
      "676\n",
      "Quito\n",
      "robo vehiculo\n",
      "2\n",
      "Quito\n",
      "asalto\n",
      "500\n",
      "[[6.050e+02 6.345e+03]\n",
      " [1.230e+02 6.760e+02]\n",
      " [2.000e+00 5.000e+02]]\n"
     ]
    }
   ],
   "source": [
    "for ciudad, dicc in diccionario.items():\n",
    "    for delito, cantidad in dicc.items():\n",
    "        print(ciudad)\n",
    "        print(delito)\n",
    "        print(cantidad)\n",
    "        cantidad= int(cantidad)\n",
    "        indiceCiudad=  ciudades.index(ciudad)\n",
    "        indiceDelito= delitos.index(delito)\n",
    "        matrizCrimenes[indiceCiudad,indiceDelito]= cantidad\n",
    "\n",
    "print(matrizCrimenes)\n",
    "    "
   ]
  },
  {
   "cell_type": "code",
   "execution_count": 27,
   "metadata": {},
   "outputs": [],
   "source": [
    "def crearMatriz():\n",
    "    ciudades, delitos = ciudadesCrimenes(diccionario)\n",
    "    cantidadCiudades= len(ciudades)\n",
    "    cantidadDelitos= len(delitos)\n",
    "\n",
    "    matrizCrimenes= np.zeros((cantidadCiudades,cantidadDelitos))\n",
    "    for ciudad, dicc in diccionario.items():\n",
    "        for delito, cantidad in dicc.items():\n",
    "            cantidad= int(cantidad)\n",
    "            indiceCiudad=  ciudades.index(ciudad)\n",
    "            indiceDelito= delitos.index(delito)\n",
    "            matrizCrimenes[indiceCiudad,indiceDelito]= cantidad\n",
    "\n",
    "    return matrizCrimenes\n",
    "\n"
   ]
  },
  {
   "cell_type": "code",
   "execution_count": 28,
   "metadata": {},
   "outputs": [],
   "source": [
    "matrizCrimenes= crearMatriz()"
   ]
  },
  {
   "cell_type": "code",
   "execution_count": 44,
   "metadata": {},
   "outputs": [
    {
     "name": "stdout",
     "output_type": "stream",
     "text": [
      "[6950.  799.  502.]\n",
      "[6.95    0.99875 5.02   ]\n",
      "['Guayaquil' 'Quito' 'Cuenca']\n",
      "['Guayaquil' 'Quito']\n"
     ]
    }
   ],
   "source": [
    "cantidadCrimenesCiudad= np.sum(matrizCrimenes,axis=1)# incidentes por ciudades\n",
    "poblacion = np.array([1000,800,100])\n",
    "indicePerCapita= cantidadCrimenesCiudad/poblacion #formula del ejercicio\n",
    "indiceSort = np.argsort(indicePerCapita) # me los indices de como deberian estar ordenados\n",
    "vectorCiudades= np.array(ciudades) #convierte la lista en un vector \n",
    "ciudadesOrdenadas= vectorCiudades[indiceSort] #me ordena la lista de menor a valor segun indiceSort\n",
    "mayoresCiudadesOrdenadas= ciudadesOrdenadas[::-1] #de mayor a menor\n",
    "print(mayoresCiudadesOrdenadas)\n",
    "print(mayoresCiudadesOrdenadas[:2]) #solo obtiene el top2, top3, topn"
   ]
  },
  {
   "cell_type": "code",
   "execution_count": null,
   "metadata": {},
   "outputs": [],
   "source": [
    "def ciudadesMenosSeguras(matriz, ciudades, delitos, tipoDelito, poblacion):"
   ]
  }
 ],
 "metadata": {
  "kernelspec": {
   "display_name": "Python 3",
   "language": "python",
   "name": "python3"
  },
  "language_info": {
   "codemirror_mode": {
    "name": "ipython",
    "version": 3
   },
   "file_extension": ".py",
   "mimetype": "text/x-python",
   "name": "python",
   "nbconvert_exporter": "python",
   "pygments_lexer": "ipython3",
   "version": "3.10.3"
  }
 },
 "nbformat": 4,
 "nbformat_minor": 2
}
