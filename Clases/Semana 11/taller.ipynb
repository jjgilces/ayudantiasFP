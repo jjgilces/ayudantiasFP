{
 "cells": [
  {
   "cell_type": "markdown",
   "source": [
    "# TALLER INTEGRADOR 5"
   ],
   "metadata": {}
  },
  {
   "cell_type": "markdown",
   "source": [
    "Nota: El archivo tiene el encoding de utf-8. Los datos de las ranas vienen en el siguiente orden nombre,\r\n",
    "clase, orden, familia y género."
   ],
   "metadata": {}
  },
  {
   "cell_type": "markdown",
   "source": [
    "Para entender los datos que se encuentran en el archivo, Ud debe crear un programa con el siguiente menú\r\n",
    "de opciones:\r\n",
    "1. Familias. Muestra las familias de ranas que hay en el Ecuador.\r\n",
    "2. Ranas por familia. Muestra las ranas por cada una de las familias.\r\n",
    "3. Taxonomia 1. Muestra la taxonomía por las familias.\r\n",
    "4. Resultados. Muestra las proporciones de cada una de las familias de ranas en el país."
   ],
   "metadata": {}
  },
  {
   "cell_type": "code",
   "execution_count": 2,
   "source": [
    "menu = \"1.Familia\\n2. Ranas por familia\\n3. Taxonomia\\n4. Resultados\\n5 Salir\"\r\n",
    "print(menu)\r\n",
    "opcion= input(\"Ingrese una opción: \")\r\n",
    "\r\n",
    "def familia(nombreArchivo):\r\n",
    "    archivo = open(nombreArchivo)\r\n",
    "    lista= [] \r\n",
    "    for linea in archivo: \r\n",
    "        nombre,clase,orden,familia,genero=linea.split(\",\")\r\n",
    "        lista.append(familia)\r\n",
    "    familias= list(set(lista))\r\n",
    "    return familias\r\n",
    "print(familia(\"Clases\\Semana 11\\ranas_ecuador.csv\"))\r\n",
    "# while opcion!=\"5\":\r\n",
    "#     if opcion==\"1\": \r\n",
    "#         print()\r\n",
    "#     elif opcion ==\"2\":\r\n",
    "\r\n",
    "\r\n"
   ],
   "outputs": [
    {
     "output_type": "stream",
     "name": "stdout",
     "text": [
      "1.Familia\n",
      "2. Ranas por familia\n",
      "3. Taxonomia\n",
      "4. Resultados\n",
      "5 Salir\n"
     ]
    },
    {
     "output_type": "error",
     "ename": "FileNotFoundError",
     "evalue": "[Errno 2] No such file or directory: 'Clases\\\\Semana 11\\ranas_ecuador.csv'",
     "traceback": [
      "\u001b[1;31m---------------------------------------------------------------------------\u001b[0m",
      "\u001b[1;31mFileNotFoundError\u001b[0m                         Traceback (most recent call last)",
      "\u001b[1;32m<ipython-input-2-cedce28824a0>\u001b[0m in \u001b[0;36m<module>\u001b[1;34m\u001b[0m\n\u001b[0;32m     11\u001b[0m     \u001b[0mfamilias\u001b[0m\u001b[1;33m=\u001b[0m \u001b[0mlist\u001b[0m\u001b[1;33m(\u001b[0m\u001b[0mset\u001b[0m\u001b[1;33m(\u001b[0m\u001b[0mlista\u001b[0m\u001b[1;33m)\u001b[0m\u001b[1;33m)\u001b[0m\u001b[1;33m\u001b[0m\u001b[1;33m\u001b[0m\u001b[0m\n\u001b[0;32m     12\u001b[0m     \u001b[1;32mreturn\u001b[0m \u001b[0mfamilias\u001b[0m\u001b[1;33m\u001b[0m\u001b[1;33m\u001b[0m\u001b[0m\n\u001b[1;32m---> 13\u001b[1;33m \u001b[0mprint\u001b[0m\u001b[1;33m(\u001b[0m\u001b[0mfamilia\u001b[0m\u001b[1;33m(\u001b[0m\u001b[1;34m\"Clases\\Semana 11\\ranas_ecuador.csv\"\u001b[0m\u001b[1;33m)\u001b[0m\u001b[1;33m)\u001b[0m\u001b[1;33m\u001b[0m\u001b[1;33m\u001b[0m\u001b[0m\n\u001b[0m\u001b[0;32m     14\u001b[0m \u001b[1;31m# while opcion!=\"5\":\u001b[0m\u001b[1;33m\u001b[0m\u001b[1;33m\u001b[0m\u001b[1;33m\u001b[0m\u001b[0m\n\u001b[0;32m     15\u001b[0m \u001b[1;31m#     if opcion==\"1\":\u001b[0m\u001b[1;33m\u001b[0m\u001b[1;33m\u001b[0m\u001b[1;33m\u001b[0m\u001b[0m\n",
      "\u001b[1;32m<ipython-input-2-cedce28824a0>\u001b[0m in \u001b[0;36mfamilia\u001b[1;34m(nombreArchivo)\u001b[0m\n\u001b[0;32m      4\u001b[0m \u001b[1;33m\u001b[0m\u001b[0m\n\u001b[0;32m      5\u001b[0m \u001b[1;32mdef\u001b[0m \u001b[0mfamilia\u001b[0m\u001b[1;33m(\u001b[0m\u001b[0mnombreArchivo\u001b[0m\u001b[1;33m)\u001b[0m\u001b[1;33m:\u001b[0m\u001b[1;33m\u001b[0m\u001b[1;33m\u001b[0m\u001b[0m\n\u001b[1;32m----> 6\u001b[1;33m     \u001b[0marchivo\u001b[0m \u001b[1;33m=\u001b[0m \u001b[0mopen\u001b[0m\u001b[1;33m(\u001b[0m\u001b[0mnombreArchivo\u001b[0m\u001b[1;33m)\u001b[0m\u001b[1;33m\u001b[0m\u001b[1;33m\u001b[0m\u001b[0m\n\u001b[0m\u001b[0;32m      7\u001b[0m     \u001b[0mlista\u001b[0m\u001b[1;33m=\u001b[0m \u001b[1;33m[\u001b[0m\u001b[1;33m]\u001b[0m\u001b[1;33m\u001b[0m\u001b[1;33m\u001b[0m\u001b[0m\n\u001b[0;32m      8\u001b[0m     \u001b[1;32mfor\u001b[0m \u001b[0mlinea\u001b[0m \u001b[1;32min\u001b[0m \u001b[0marchivo\u001b[0m\u001b[1;33m:\u001b[0m\u001b[1;33m\u001b[0m\u001b[1;33m\u001b[0m\u001b[0m\n",
      "\u001b[1;31mFileNotFoundError\u001b[0m: [Errno 2] No such file or directory: 'Clases\\\\Semana 11\\ranas_ecuador.csv'"
     ]
    }
   ],
   "metadata": {}
  }
 ],
 "metadata": {
  "orig_nbformat": 4,
  "language_info": {
   "name": "python",
   "version": "3.9.5",
   "mimetype": "text/x-python",
   "codemirror_mode": {
    "name": "ipython",
    "version": 3
   },
   "pygments_lexer": "ipython3",
   "nbconvert_exporter": "python",
   "file_extension": ".py"
  },
  "kernelspec": {
   "name": "python3",
   "display_name": "Python 3.9.5 64-bit"
  },
  "interpreter": {
   "hash": "8fd0fa209557044ef83cb14c509b9a951234f2ece869ffe9ff565323c71bebdc"
  }
 },
 "nbformat": 4,
 "nbformat_minor": 2
}