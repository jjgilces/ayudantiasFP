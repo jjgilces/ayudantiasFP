{
 "metadata": {
  "language_info": {
   "codemirror_mode": {
    "name": "ipython",
    "version": 3
   },
   "file_extension": ".py",
   "mimetype": "text/x-python",
   "name": "python",
   "nbconvert_exporter": "python",
   "pygments_lexer": "ipython3",
   "version": "3.9.5"
  },
  "orig_nbformat": 2,
  "kernelspec": {
   "name": "python395jvsc74a57bd08fd0fa209557044ef83cb14c509b9a951234f2ece869ffe9ff565323c71bebdc",
   "display_name": "Python 3.9.5 64-bit"
  },
  "metadata": {
   "interpreter": {
    "hash": "8fd0fa209557044ef83cb14c509b9a951234f2ece869ffe9ff565323c71bebdc"
   }
  }
 },
 "nbformat": 4,
 "nbformat_minor": 2,
 "cells": [
  {
   "source": [
    "# Taller 2\n",
    "_En una pasteleria donde se trabaja de lunes a viernes se desea realizar un menu que permita al usuario escoger de mejor manera_\n",
    "\n",
    "Suponga que posee 4 listas:\n",
    "- Una lista de dias laborables de la semana \n",
    "- Una lista con los pedidos de cada día (cada pedido es una lista con la informacion de cada pedido)\n",
    "- Una lista de postres \n",
    "- Una lista con la duracion de cocción de cada postre "
   ],
   "cell_type": "markdown",
   "metadata": {}
  },
  {
   "source": [
    "dias=[\"Lunes\",\"Martes\",\"Miercoles\",\"Jueves\",\"Viernes\"]\n",
    "pedidos= [['charlote-torta vainilla-1', 'dan-pie de manzana-1', 'ana-torta sach-1', 'joey-torta sach-1', 'walter-torta sach-2', 'ana-galletas de coco-3', 'reese-caja cupcakes-1', 'dan-torta sach-1', 'pete-cheesecake-1'],\n",
    "          ['pete-galletas de coco-1', 'ana-caja cupcakes-1', 'dan-caja macarroons-1', 'chuck-caja cupcakes-1', 'serena-galletas de coco-1', 'chuck-caja macarroons-1', 'chuck-tiramisu-1', 'walter-torta sach-1', 'serena-pie de manzana-1', 'chuck-tiramisu-1'],\n",
    "          ['amalia-pie de manzana-2', 'skyler-torta de naranja-2', 'pete-torta de naranja-1', 'rachel-caja cupcakes-1'],\n",
    "          ['amalia-caja cupcakes-1', 'rachel-torta sach-1', 'dan-torta de naranja-1', 'charlote-torta vainilla-1', 'rachel-caja cupcakes-1', 'joey-caja macarroons-1'],\n",
    "          ['skyler-selva negra-1', 'betty-tiramisu-1', 'carrie-torta vainilla-1', 'reese-tiramisu-1', 'serena-cheesecake-1', 'charlote-torta vainilla-1']]\n",
    "postres=[\"tiramisu\",\"cheesecake\",\"caja cupcakes\",\"torta de naranja\", \"selva negra\",\"torta sach\",\"caja macarroons\",\"pie de manzana\",\"galletas de coco\",\"torta vainilla\"]\n",
    "tiempoPreparacion=[45,35,30,30,80,80,65,40,15,20]\n",
    "          "
   ],
   "cell_type": "code",
   "metadata": {},
   "execution_count": 1,
   "outputs": []
  },
  {
   "source": [
    "```1) Pedidos por dia``` \n",
    "Recibe una cadena con el dia de la semana ej. \"Lunes\" e Imprima la lista de pedidos que corresponde al dia recibido por parametros. \n",
    "\n"
   ],
   "cell_type": "markdown",
   "metadata": {}
  },
  {
   "cell_type": "code",
   "execution_count": 4,
   "metadata": {},
   "outputs": [
    {
     "output_type": "stream",
     "name": "stdout",
     "text": [
      "skyler-selva negra-1\nbetty-tiramisu-1\ncarrie-torta vainilla-1\nreese-tiramisu-1\nserena-cheesecake-1\ncharlote-torta vainilla-1\n"
     ]
    }
   ],
   "source": [
    "dia = input(\"Ingrese un dia de la semana: \") #Lunes, Martes\n",
    "indice = dias.index(dia)\n",
    "#validar que el dia si existe \n",
    "info= pedidos[indice]\n",
    "for i in info:\n",
    "    print(i)\n"
   ]
  },
  {
   "source": [
    "```2) Obtener tiempo_postre```\n",
    "\n",
    "Recibe una cadena con el postre a consultar e imprime el tiempo total que toma realizar el postre recibido \n",
    "\n",
    "_Ejemplo de llamada de prueba_\n",
    "\n",
    "_ingrese un postre: \"tiramisu\"_\n",
    "\n",
    "_ingrese una cantidad: 2_\n",
    "\n",
    "_El resultado seria 90_\n",
    "\n"
   ],
   "cell_type": "markdown",
   "metadata": {}
  },
  {
   "cell_type": "code",
   "execution_count": 5,
   "metadata": {},
   "outputs": [
    {
     "output_type": "stream",
     "name": "stdout",
     "text": [
      "Tiene que esperar  90\n"
     ]
    }
   ],
   "source": [
    "postre= input(\"Ingrese un postre: \")\n",
    "cantidad=int(input(\"Ingrese una cantidad: \")) #string\n",
    "for i in range(len(postres)):\n",
    "    if postres[i]==postre:\n",
    "        indice=i\n",
    "\n",
    "indice=postres.index(postre)\n",
    "tiempo=tiempoPreparacion[indice]\n",
    "tiempoTotal= tiempo * cantidad\n",
    "print(\"Tiene que esperar \",tiempoTotal,\"Minutos\")"
   ]
  },
  {
   "source": [
    "```3) Presentar_pedidos_dia```\n",
    "\n",
    "Recibe una lista de pedidos correspondiente a un dia. \n",
    "Ejemplo:\n",
    "```['charlote-torta vainilla-1', 'dan-pie de manzana-1', 'ana-torta sach-1', 'joey-torta sach-1', 'walter-torta sach-2', 'ana-galletas de coco-3', 'reese-caja cupcakes-1', 'dan-torta sach-1', 'pete-cheesecake-1']```\n",
    "la lista de postres y la lista tiempoPreparacion. La función imprime por pantalla los postres que pueden realizarse considerando que la pasteleria trabaja 8 horas. \n",
    "El formato de impresion debe ser como el del siguiente ejemplo:\n",
    "\n",
    "```\n",
    "cliente - postre - cantidad - tiempoTotal\n",
    "--------------------------------------------\n",
    "Charlote - torta vainilla - 1- 20 minutos\n",
    "Dan - pie de manzana - 1- 40 minutos\n",
    ".............\n",
    ".............\n",
    "...............\n",
    "Pedidos pendientes (fuera de las 8 horas):\n",
    "-------------------------------------------\n",
    "Pete- cheesecake - 1 - 40 minutos.\n",
    "```\n",
    "Para la llamada a esta funcion, recuerde que la funcion obtener_pedidos_dias retorna una lista de los pedidos de un dia especifico.\n"
   ],
   "cell_type": "markdown",
   "metadata": {}
  },
  {
   "cell_type": "code",
   "execution_count": 6,
   "metadata": {},
   "outputs": [
    {
     "output_type": "error",
     "ename": "IndentationError",
     "evalue": "expected an indented block (<ipython-input-6-e947ee811edb>, line 5)",
     "traceback": [
      "\u001b[1;36m  File \u001b[1;32m\"<ipython-input-6-e947ee811edb>\"\u001b[1;36m, line \u001b[1;32m5\u001b[0m\n\u001b[1;33m    for i in info:\u001b[0m\n\u001b[1;37m                  ^\u001b[0m\n\u001b[1;31mIndentationError\u001b[0m\u001b[1;31m:\u001b[0m expected an indented block\n"
     ]
    }
   ],
   "source": [
    "dia = input(\"Ingrese un dia de la semana: \") #Lunes, Martes\n",
    "indice = dias.index(dia)\n",
    "#validar que el dia si existe \n",
    "info= pedidos[indice]\n",
    "postresI=[]\n",
    "nombres=[]\n",
    "cantidades=[]\n",
    "horas=0\n",
    "for i in info:\n",
    "    nombre, postre, cantidad= i.split(\"-\")\n",
    "    nombres.append(nombre)\n",
    "    cantidades.append(int(cantidad))\n",
    "    postresI.append(postre)\n",
    " ['torta vainilla', 'pie de manzana', 'torta sach']\n",
    "[1,2,3]   \n",
    "ind=0\n",
    "while horas<8:  #8<8\n",
    "    postre=postresI[ind]#tiramisu, jf\n",
    "    indice= postres.index(postre)\n",
    "    tiempo= tiempoPreparacionp[indice]\n",
    "    cantidad=cantidades[ind]\n",
    "    tiempoTotal= tiempo*cantidad\n",
    "    print(postre,cantidad,tiempoTotal)\n",
    "    horas+=tiempoTotal #9\n",
    "    ind=ind+1\n",
    "\n",
    "\n",
    "for i in range(len(postresI)):\n",
    "    if horas<8:\n",
    "        postre=postresI[i]#tiramisu, jf\n",
    "        cantidadP=cantidades[i]\n",
    "        indice= postres.index(postre)\n",
    "        tiempo= tiempoPreparacionp[indice]\n",
    "        tiempoTotal= tiempo*cantidad\n",
    "        print(postre,cantidad,tiempoTotal)\n",
    "\n",
    "\n"
   ]
  },
  {
   "source": [
    "\n",
    "# Programa Principal\n",
    "\n",
    "Permita al usuario ingresar un dia de inicio y un dia de fin. Presente los pedidos de cada dia como se muestra a continuación**:\n",
    "\n",
    "```\n",
    "# Bienvenido al men\n",
    "Ingrese dia de inicio:Lunes\n",
    "Ingrese dia de fin:Martes\n",
    "\n",
    "Dia Lunes\n",
    "--------------------------------------------\n",
    "cliente - postre - cantidad - tiempoTotal\n",
    "--------------------------------------------\n",
    "Charlote - torta vainilla - 1- 20 minutos\n",
    "Dan - pie de manzana - 1- 40 minutos\n",
    ".............\n",
    ".............\n",
    "...............\n",
    "Pedidos pendientes (fuera de las 8 horas):\n",
    "-------------------------------------------\n",
    "Pete- cheesecake - 1 - 40 minutos.\n",
    "\n",
    "Dia Martes\n",
    "--------------------------------------------\n",
    "cliente - postre - cantidad - tiempoTotal\n",
    "--------------------------------------------\n",
    "pete - galletas de coco - 1- 20 minutos\n",
    "ana - caja cupcakes - 1- 30 minutos\n",
    ".............\n",
    ".............\n",
    "...............\n",
    "Pedidos pendientes (fuera de las 8 horas):\n",
    "-------------------------------------------\n",
    "Pete- cheesecake - 1 - 40 minutos.\n",
    "```\n",
    "**Estos datos no son correctos solo son de ejemplo"
   ],
   "cell_type": "markdown",
   "metadata": {}
  }
 ]
}